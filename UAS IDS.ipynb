{
 "cells": [
  {
   "cell_type": "markdown",
   "id": "2c39e292",
   "metadata": {
    "cell_id": "b9bb4559-26d6-499d-9f91-8abb65e7efbb",
    "deepnote_cell_height": 273.390625,
    "deepnote_cell_type": "markdown",
    "pycharm": {
     "name": "#%% md\n"
    }
   },
   "source": [
    "# Final Project Intro to Data Science\n",
    "---\n",
    "**Dibuat Oleh**:\n",
    "- Christopher Timothy Kwee / 23101910029\n",
    "- Dennis Jonathan / 23101910027\n",
    "- Gaizka Elbert / 23101910054\n",
    "- Gilbert Aurelio Sachio / 23101910047\n",
    "- Justin Jedidiah Sunarko / 23101910024"
   ]
  },
  {
   "cell_type": "markdown",
   "id": "2df4bb8d",
   "metadata": {
    "cell_id": "824b27f12447487481658f5667073181",
    "deepnote_cell_height": 70,
    "deepnote_cell_type": "markdown",
    "pycharm": {
     "name": "#%% md\n"
    },
    "tags": []
   },
   "source": [
    "## 1. Prerequisites"
   ]
  },
  {
   "cell_type": "markdown",
   "id": "8f7a04d3",
   "metadata": {
    "cell_id": "1e8191560970479eb9d014930195918a",
    "deepnote_cell_height": 62,
    "deepnote_cell_type": "markdown",
    "pycharm": {
     "name": "#%% md\n"
    },
    "tags": []
   },
   "source": [
    "### 1.1. Menginstall beberapa library"
   ]
  },
  {
   "cell_type": "code",
   "execution_count": 1,
   "id": "6726de24",
   "metadata": {
    "cell_id": "47f68d5b2c0d42429de48a7af5f6b247",
    "deepnote_cell_height": 472.796875,
    "deepnote_cell_type": "code",
    "deepnote_to_be_reexecuted": false,
    "execution_millis": 7880,
    "execution_start": 1656240450149,
    "pycharm": {
     "name": "#%%\n"
    },
    "source_hash": "2c7adba4",
    "tags": []
   },
   "outputs": [],
   "source": [
    "# # Menginstall package yang tidak ada\n",
    "# !pip install xgboost\n",
    "# !pip install statsmodels"
   ]
  },
  {
   "cell_type": "markdown",
   "id": "ce8cfc9e",
   "metadata": {
    "cell_id": "38524af293a94fe5b505c2c767a95e43",
    "deepnote_cell_height": 62,
    "deepnote_cell_type": "markdown",
    "pycharm": {
     "name": "#%% md\n"
    },
    "tags": []
   },
   "source": [
    "### 1.2. Mengimpor library yang dibutuhkan"
   ]
  },
  {
   "cell_type": "code",
   "execution_count": 2,
   "id": "cc0d0d0e",
   "metadata": {
    "cell_id": "00001-3ce82aa2-7c15-4e71-9c0c-ff54c4b368d6",
    "deepnote_cell_height": 495,
    "deepnote_cell_type": "code",
    "deepnote_to_be_reexecuted": false,
    "execution_millis": 4065,
    "execution_start": 1656240458035,
    "pycharm": {
     "name": "#%%\n"
    },
    "source_hash": "35f1a25e"
   },
   "outputs": [
    {
     "name": "stderr",
     "output_type": "stream",
     "text": [
      "C:\\Users\\User\\anaconda3\\lib\\site-packages\\xgboost\\compat.py:36: FutureWarning: pandas.Int64Index is deprecated and will be removed from pandas in a future version. Use pandas.Index with the appropriate dtype instead.\n",
      "  from pandas import MultiIndex, Int64Index\n"
     ]
    }
   ],
   "source": [
    "# Mengimpor library untuk manipulasi data dan aljabar linear\n",
    "import pandas as pd\n",
    "import numpy as np\n",
    "\n",
    "import joblib\n",
    "# import os\n",
    "# os.makedirs('model_dumps')\n",
    "\n",
    "# Mengimpor library visualisasi\n",
    "import matplotlib.pyplot as plt\n",
    "import seaborn as sns\n",
    "\n",
    "# Mengimpor fungsi-fungsi preprocessing dan model selection\n",
    "from sklearn.model_selection import train_test_split\n",
    "from sklearn.preprocessing import StandardScaler\n",
    "from sklearn.model_selection import RandomizedSearchCV\n",
    "\n",
    "# Mengimpor fungsi-fungsi penguji model\n",
    "from sklearn.metrics import mean_squared_error\n",
    "from sklearn.model_selection import cross_validate\n",
    "\n",
    "# Mengimpor fungsi-fungsi untuk pemodelan\n",
    "from statsmodels.stats.outliers_influence import variance_inflation_factor\n",
    "from sklearn.linear_model import LinearRegression\n",
    "from sklearn.tree import DecisionTreeRegressor\n",
    "from sklearn.ensemble import RandomForestRegressor\n",
    "from sklearn.ensemble import GradientBoostingRegressor\n",
    "from xgboost import XGBRegressor\n",
    "import statsmodels.api as sm\n",
    "\n",
    "# Menghilangkan warnings\n",
    "import warnings\n",
    "warnings.filterwarnings('ignore')"
   ]
  },
  {
   "cell_type": "markdown",
   "id": "697f25b1",
   "metadata": {
    "cell_id": "07638b5b44fd46d49a8e04fc6b83daab",
    "deepnote_cell_height": 62,
    "deepnote_cell_type": "markdown",
    "pycharm": {
     "name": "#%% md\n"
    },
    "tags": []
   },
   "source": [
    "### 1.3. Mengimpor data"
   ]
  },
  {
   "cell_type": "code",
   "execution_count": 3,
   "id": "aca16df3",
   "metadata": {
    "cell_id": "00002-ab4621ce-d826-485f-9b81-db0b293d4e5c",
    "deepnote_cell_height": 483.796875,
    "deepnote_cell_type": "code",
    "deepnote_to_be_reexecuted": false,
    "execution_millis": 390,
    "execution_start": 1656240462104,
    "pycharm": {
     "name": "#%%\n"
    },
    "source_hash": "9bea5201"
   },
   "outputs": [
    {
     "data": {
      "text/plain": "   Id  MSSubClass MSZoning  LotFrontage  LotArea Street Alley LotShape  \\\n0   1          60       RL         65.0     8450   Pave   NaN      Reg   \n1   2          20       RL         80.0     9600   Pave   NaN      Reg   \n2   3          60       RL         68.0    11250   Pave   NaN      IR1   \n3   4          70       RL         60.0     9550   Pave   NaN      IR1   \n4   5          60       RL         84.0    14260   Pave   NaN      IR1   \n\n  LandContour Utilities  ... PoolArea PoolQC Fence MiscFeature MiscVal MoSold  \\\n0         Lvl    AllPub  ...        0    NaN   NaN         NaN       0      2   \n1         Lvl    AllPub  ...        0    NaN   NaN         NaN       0      5   \n2         Lvl    AllPub  ...        0    NaN   NaN         NaN       0      9   \n3         Lvl    AllPub  ...        0    NaN   NaN         NaN       0      2   \n4         Lvl    AllPub  ...        0    NaN   NaN         NaN       0     12   \n\n  YrSold  SaleType  SaleCondition  SalePrice  \n0   2008        WD         Normal     208500  \n1   2007        WD         Normal     181500  \n2   2008        WD         Normal     223500  \n3   2006        WD        Abnorml     140000  \n4   2008        WD         Normal     250000  \n\n[5 rows x 81 columns]",
      "text/html": "<div>\n<style scoped>\n    .dataframe tbody tr th:only-of-type {\n        vertical-align: middle;\n    }\n\n    .dataframe tbody tr th {\n        vertical-align: top;\n    }\n\n    .dataframe thead th {\n        text-align: right;\n    }\n</style>\n<table border=\"1\" class=\"dataframe\">\n  <thead>\n    <tr style=\"text-align: right;\">\n      <th></th>\n      <th>Id</th>\n      <th>MSSubClass</th>\n      <th>MSZoning</th>\n      <th>LotFrontage</th>\n      <th>LotArea</th>\n      <th>Street</th>\n      <th>Alley</th>\n      <th>LotShape</th>\n      <th>LandContour</th>\n      <th>Utilities</th>\n      <th>...</th>\n      <th>PoolArea</th>\n      <th>PoolQC</th>\n      <th>Fence</th>\n      <th>MiscFeature</th>\n      <th>MiscVal</th>\n      <th>MoSold</th>\n      <th>YrSold</th>\n      <th>SaleType</th>\n      <th>SaleCondition</th>\n      <th>SalePrice</th>\n    </tr>\n  </thead>\n  <tbody>\n    <tr>\n      <th>0</th>\n      <td>1</td>\n      <td>60</td>\n      <td>RL</td>\n      <td>65.0</td>\n      <td>8450</td>\n      <td>Pave</td>\n      <td>NaN</td>\n      <td>Reg</td>\n      <td>Lvl</td>\n      <td>AllPub</td>\n      <td>...</td>\n      <td>0</td>\n      <td>NaN</td>\n      <td>NaN</td>\n      <td>NaN</td>\n      <td>0</td>\n      <td>2</td>\n      <td>2008</td>\n      <td>WD</td>\n      <td>Normal</td>\n      <td>208500</td>\n    </tr>\n    <tr>\n      <th>1</th>\n      <td>2</td>\n      <td>20</td>\n      <td>RL</td>\n      <td>80.0</td>\n      <td>9600</td>\n      <td>Pave</td>\n      <td>NaN</td>\n      <td>Reg</td>\n      <td>Lvl</td>\n      <td>AllPub</td>\n      <td>...</td>\n      <td>0</td>\n      <td>NaN</td>\n      <td>NaN</td>\n      <td>NaN</td>\n      <td>0</td>\n      <td>5</td>\n      <td>2007</td>\n      <td>WD</td>\n      <td>Normal</td>\n      <td>181500</td>\n    </tr>\n    <tr>\n      <th>2</th>\n      <td>3</td>\n      <td>60</td>\n      <td>RL</td>\n      <td>68.0</td>\n      <td>11250</td>\n      <td>Pave</td>\n      <td>NaN</td>\n      <td>IR1</td>\n      <td>Lvl</td>\n      <td>AllPub</td>\n      <td>...</td>\n      <td>0</td>\n      <td>NaN</td>\n      <td>NaN</td>\n      <td>NaN</td>\n      <td>0</td>\n      <td>9</td>\n      <td>2008</td>\n      <td>WD</td>\n      <td>Normal</td>\n      <td>223500</td>\n    </tr>\n    <tr>\n      <th>3</th>\n      <td>4</td>\n      <td>70</td>\n      <td>RL</td>\n      <td>60.0</td>\n      <td>9550</td>\n      <td>Pave</td>\n      <td>NaN</td>\n      <td>IR1</td>\n      <td>Lvl</td>\n      <td>AllPub</td>\n      <td>...</td>\n      <td>0</td>\n      <td>NaN</td>\n      <td>NaN</td>\n      <td>NaN</td>\n      <td>0</td>\n      <td>2</td>\n      <td>2006</td>\n      <td>WD</td>\n      <td>Abnorml</td>\n      <td>140000</td>\n    </tr>\n    <tr>\n      <th>4</th>\n      <td>5</td>\n      <td>60</td>\n      <td>RL</td>\n      <td>84.0</td>\n      <td>14260</td>\n      <td>Pave</td>\n      <td>NaN</td>\n      <td>IR1</td>\n      <td>Lvl</td>\n      <td>AllPub</td>\n      <td>...</td>\n      <td>0</td>\n      <td>NaN</td>\n      <td>NaN</td>\n      <td>NaN</td>\n      <td>0</td>\n      <td>12</td>\n      <td>2008</td>\n      <td>WD</td>\n      <td>Normal</td>\n      <td>250000</td>\n    </tr>\n  </tbody>\n</table>\n<p>5 rows × 81 columns</p>\n</div>"
     },
     "execution_count": 3,
     "metadata": {},
     "output_type": "execute_result"
    }
   ],
   "source": [
    "# Membaca data ke dalam environment\n",
    "df = pd.read_csv('data/train.csv')\n",
    "\n",
    "# Menunjukan lima data pertama\n",
    "df.head()"
   ]
  },
  {
   "cell_type": "code",
   "execution_count": 4,
   "id": "a8f244aa",
   "metadata": {
    "cell_id": "00003-dca488de-534f-496b-b472-03ff6924a1da",
    "deepnote_cell_height": 136.1875,
    "deepnote_cell_type": "code",
    "deepnote_output_heights": [
     21.1875
    ],
    "deepnote_to_be_reexecuted": false,
    "execution_millis": 2,
    "execution_start": 1656240462497,
    "pycharm": {
     "name": "#%%\n"
    },
    "source_hash": "d97349d"
   },
   "outputs": [
    {
     "data": {
      "text/plain": "(1460, 81)"
     },
     "execution_count": 4,
     "metadata": {},
     "output_type": "execute_result"
    }
   ],
   "source": [
    "# Menunjukkan bentuk dari dataframe\n",
    "df.shape"
   ]
  },
  {
   "cell_type": "code",
   "execution_count": 5,
   "id": "ec7c54b7",
   "metadata": {
    "cell_id": "00004-dd236fc1-6094-4528-acbd-1dffc9945d0c",
    "deepnote_cell_height": 462.578125,
    "deepnote_cell_type": "code",
    "deepnote_output_heights": [
     347.59375
    ],
    "deepnote_to_be_reexecuted": false,
    "execution_millis": 3,
    "execution_start": 1656240462525,
    "pycharm": {
     "name": "#%%\n"
    },
    "source_hash": "66d6e1f9"
   },
   "outputs": [
    {
     "data": {
      "text/plain": "Index(['Id', 'MSSubClass', 'MSZoning', 'LotFrontage', 'LotArea', 'Street',\n       'Alley', 'LotShape', 'LandContour', 'Utilities', 'LotConfig',\n       'LandSlope', 'Neighborhood', 'Condition1', 'Condition2', 'BldgType',\n       'HouseStyle', 'OverallQual', 'OverallCond', 'YearBuilt', 'YearRemodAdd',\n       'RoofStyle', 'RoofMatl', 'Exterior1st', 'Exterior2nd', 'MasVnrType',\n       'MasVnrArea', 'ExterQual', 'ExterCond', 'Foundation', 'BsmtQual',\n       'BsmtCond', 'BsmtExposure', 'BsmtFinType1', 'BsmtFinSF1',\n       'BsmtFinType2', 'BsmtFinSF2', 'BsmtUnfSF', 'TotalBsmtSF', 'Heating',\n       'HeatingQC', 'CentralAir', 'Electrical', '1stFlrSF', '2ndFlrSF',\n       'LowQualFinSF', 'GrLivArea', 'BsmtFullBath', 'BsmtHalfBath', 'FullBath',\n       'HalfBath', 'BedroomAbvGr', 'KitchenAbvGr', 'KitchenQual',\n       'TotRmsAbvGrd', 'Functional', 'Fireplaces', 'FireplaceQu', 'GarageType',\n       'GarageYrBlt', 'GarageFinish', 'GarageCars', 'GarageArea', 'GarageQual',\n       'GarageCond', 'PavedDrive', 'WoodDeckSF', 'OpenPorchSF',\n       'EnclosedPorch', '3SsnPorch', 'ScreenPorch', 'PoolArea', 'PoolQC',\n       'Fence', 'MiscFeature', 'MiscVal', 'MoSold', 'YrSold', 'SaleType',\n       'SaleCondition', 'SalePrice'],\n      dtype='object')"
     },
     "execution_count": 5,
     "metadata": {},
     "output_type": "execute_result"
    }
   ],
   "source": [
    "# Menunjukan kolom-kolom yang ada di dataframe\n",
    "df.columns"
   ]
  },
  {
   "cell_type": "markdown",
   "id": "3bfd06ef",
   "metadata": {
    "cell_id": "5f993c7b17ba4f478ca107e3db4cb498",
    "deepnote_cell_height": 70,
    "deepnote_cell_type": "markdown",
    "pycharm": {
     "name": "#%% md\n"
    },
    "tags": []
   },
   "source": [
    "## 2. Eksplorasi Data"
   ]
  },
  {
   "cell_type": "code",
   "execution_count": 6,
   "id": "ea48e3a3",
   "metadata": {
    "cell_id": "00005-88504674-b40b-44ec-9db8-02a1662cc5cf",
    "deepnote_cell_height": 289.78125,
    "deepnote_cell_type": "code",
    "deepnote_output_heights": [
     174.796875
    ],
    "deepnote_to_be_reexecuted": false,
    "execution_millis": 2,
    "execution_start": 1656240462526,
    "pycharm": {
     "name": "#%%\n"
    },
    "source_hash": "12952bc6"
   },
   "outputs": [
    {
     "data": {
      "text/plain": "count      1460.000000\nmean     180921.195890\nstd       79442.502883\nmin       34900.000000\n25%      129975.000000\n50%      163000.000000\n75%      214000.000000\nmax      755000.000000\nName: SalePrice, dtype: float64"
     },
     "execution_count": 6,
     "metadata": {},
     "output_type": "execute_result"
    }
   ],
   "source": [
    "# Melihat persebaran dari data SalePrice yang merupakan data target\n",
    "df['SalePrice'].describe()"
   ]
  },
  {
   "cell_type": "code",
   "execution_count": 7,
   "id": "81eaded1",
   "metadata": {
    "cell_id": "00006-b92f5b86-da33-44df-9c8f-61121becad93",
    "deepnote_cell_height": 512.984375,
    "deepnote_cell_type": "code",
    "deepnote_output_heights": [
     null,
     null,
     275
    ],
    "deepnote_to_be_reexecuted": false,
    "execution_millis": 768,
    "execution_start": 1656240462527,
    "pycharm": {
     "name": "#%%\n"
    },
    "source_hash": "a60f71aa"
   },
   "outputs": [
    {
     "data": {
      "text/plain": "<AxesSubplot:xlabel='SalePrice', ylabel='Density'>"
     },
     "execution_count": 7,
     "metadata": {},
     "output_type": "execute_result"
    },
    {
     "data": {
      "text/plain": "<Figure size 432x288 with 1 Axes>",
      "image/png": "[encoded data removed]"
     },
     "metadata": {
      "needs_background": "light"
     },
     "output_type": "display_data"
    }
   ],
   "source": [
    "# Membuat distribusi plot pada kolom SalePrice\n",
    "sns.distplot(df['SalePrice'], color='g', bins=100, hist_kws={'alpha': 0.4})"
   ]
  },
  {
   "cell_type": "code",
   "execution_count": 8,
   "id": "15af4165",
   "metadata": {
    "cell_id": "00007-a30d8e05-34b3-4778-bda9-350f0baf691f",
    "deepnote_cell_height": 136.1875,
    "deepnote_cell_type": "code",
    "deepnote_to_be_reexecuted": false,
    "execution_millis": 5,
    "execution_start": 1656240463301,
    "pycharm": {
     "name": "#%%\n"
    },
    "source_hash": "37c7c9ee"
   },
   "outputs": [
    {
     "data": {
      "text/plain": "{dtype('int64'), dtype('float64'), dtype('O')}"
     },
     "execution_count": 8,
     "metadata": {},
     "output_type": "execute_result"
    }
   ],
   "source": [
    "# Mencari jenis atau macam-macam tipe data pada dataset\n",
    "set(df.dtypes.tolist())"
   ]
  },
  {
   "cell_type": "code",
   "execution_count": 9,
   "id": "9e95ca39",
   "metadata": {
    "cell_id": "00008-40bd04cd-059f-474c-b258-a94658168f71",
    "deepnote_cell_height": 99,
    "deepnote_cell_type": "code",
    "deepnote_to_be_reexecuted": false,
    "execution_millis": 12,
    "execution_start": 1656240463315,
    "pycharm": {
     "name": "#%%\n"
    },
    "source_hash": "d7d77815"
   },
   "outputs": [],
   "source": [
    "# Membuang kolom Id karena tidak digunakan\n",
    "df.drop(columns='Id',inplace=True)"
   ]
  },
  {
   "cell_type": "code",
   "execution_count": 10,
   "id": "761fb94c",
   "metadata": {
    "cell_id": "00009-7117f0ea-7d77-44e3-84e1-021b08fb616e",
    "deepnote_cell_height": 447.796875,
    "deepnote_cell_type": "code",
    "deepnote_to_be_reexecuted": false,
    "execution_millis": 150,
    "execution_start": 1656240463361,
    "pycharm": {
     "name": "#%%\n"
    },
    "source_hash": "e78195a9"
   },
   "outputs": [
    {
     "data": {
      "text/plain": "   MSSubClass  LotFrontage  LotArea  OverallQual  OverallCond  YearBuilt  \\\n0          60         65.0     8450            7            5       2003   \n1          20         80.0     9600            6            8       1976   \n2          60         68.0    11250            7            5       2001   \n3          70         60.0     9550            7            5       1915   \n4          60         84.0    14260            8            5       2000   \n\n   YearRemodAdd  MasVnrArea  BsmtFinSF1  BsmtFinSF2  ...  WoodDeckSF  \\\n0          2003       196.0         706           0  ...           0   \n1          1976         0.0         978           0  ...         298   \n2          2002       162.0         486           0  ...           0   \n3          1970         0.0         216           0  ...           0   \n4          2000       350.0         655           0  ...         192   \n\n   OpenPorchSF  EnclosedPorch  3SsnPorch  ScreenPorch  PoolArea  MiscVal  \\\n0           61              0          0            0         0        0   \n1            0              0          0            0         0        0   \n2           42              0          0            0         0        0   \n3           35            272          0            0         0        0   \n4           84              0          0            0         0        0   \n\n   MoSold  YrSold  SalePrice  \n0       2    2008     208500  \n1       5    2007     181500  \n2       9    2008     223500  \n3       2    2006     140000  \n4      12    2008     250000  \n\n[5 rows x 37 columns]",
      "text/html": "<div>\n<style scoped>\n    .dataframe tbody tr th:only-of-type {\n        vertical-align: middle;\n    }\n\n    .dataframe tbody tr th {\n        vertical-align: top;\n    }\n\n    .dataframe thead th {\n        text-align: right;\n    }\n</style>\n<table border=\"1\" class=\"dataframe\">\n  <thead>\n    <tr style=\"text-align: right;\">\n      <th></th>\n      <th>MSSubClass</th>\n      <th>LotFrontage</th>\n      <th>LotArea</th>\n      <th>OverallQual</th>\n      <th>OverallCond</th>\n      <th>YearBuilt</th>\n      <th>YearRemodAdd</th>\n      <th>MasVnrArea</th>\n      <th>BsmtFinSF1</th>\n      <th>BsmtFinSF2</th>\n      <th>...</th>\n      <th>WoodDeckSF</th>\n      <th>OpenPorchSF</th>\n      <th>EnclosedPorch</th>\n      <th>3SsnPorch</th>\n      <th>ScreenPorch</th>\n      <th>PoolArea</th>\n      <th>MiscVal</th>\n      <th>MoSold</th>\n      <th>YrSold</th>\n      <th>SalePrice</th>\n    </tr>\n  </thead>\n  <tbody>\n    <tr>\n      <th>0</th>\n      <td>60</td>\n      <td>65.0</td>\n      <td>8450</td>\n      <td>7</td>\n      <td>5</td>\n      <td>2003</td>\n      <td>2003</td>\n      <td>196.0</td>\n      <td>706</td>\n      <td>0</td>\n      <td>...</td>\n      <td>0</td>\n      <td>61</td>\n      <td>0</td>\n      <td>0</td>\n      <td>0</td>\n      <td>0</td>\n      <td>0</td>\n      <td>2</td>\n      <td>2008</td>\n      <td>208500</td>\n    </tr>\n    <tr>\n      <th>1</th>\n      <td>20</td>\n      <td>80.0</td>\n      <td>9600</td>\n      <td>6</td>\n      <td>8</td>\n      <td>1976</td>\n      <td>1976</td>\n      <td>0.0</td>\n      <td>978</td>\n      <td>0</td>\n      <td>...</td>\n      <td>298</td>\n      <td>0</td>\n      <td>0</td>\n      <td>0</td>\n      <td>0</td>\n      <td>0</td>\n      <td>0</td>\n      <td>5</td>\n      <td>2007</td>\n      <td>181500</td>\n    </tr>\n    <tr>\n      <th>2</th>\n      <td>60</td>\n      <td>68.0</td>\n      <td>11250</td>\n      <td>7</td>\n      <td>5</td>\n      <td>2001</td>\n      <td>2002</td>\n      <td>162.0</td>\n      <td>486</td>\n      <td>0</td>\n      <td>...</td>\n      <td>0</td>\n      <td>42</td>\n      <td>0</td>\n      <td>0</td>\n      <td>0</td>\n      <td>0</td>\n      <td>0</td>\n      <td>9</td>\n      <td>2008</td>\n      <td>223500</td>\n    </tr>\n    <tr>\n      <th>3</th>\n      <td>70</td>\n      <td>60.0</td>\n      <td>9550</td>\n      <td>7</td>\n      <td>5</td>\n      <td>1915</td>\n      <td>1970</td>\n      <td>0.0</td>\n      <td>216</td>\n      <td>0</td>\n      <td>...</td>\n      <td>0</td>\n      <td>35</td>\n      <td>272</td>\n      <td>0</td>\n      <td>0</td>\n      <td>0</td>\n      <td>0</td>\n      <td>2</td>\n      <td>2006</td>\n      <td>140000</td>\n    </tr>\n    <tr>\n      <th>4</th>\n      <td>60</td>\n      <td>84.0</td>\n      <td>14260</td>\n      <td>8</td>\n      <td>5</td>\n      <td>2000</td>\n      <td>2000</td>\n      <td>350.0</td>\n      <td>655</td>\n      <td>0</td>\n      <td>...</td>\n      <td>192</td>\n      <td>84</td>\n      <td>0</td>\n      <td>0</td>\n      <td>0</td>\n      <td>0</td>\n      <td>0</td>\n      <td>12</td>\n      <td>2008</td>\n      <td>250000</td>\n    </tr>\n  </tbody>\n</table>\n<p>5 rows × 37 columns</p>\n</div>"
     },
     "execution_count": 10,
     "metadata": {},
     "output_type": "execute_result"
    }
   ],
   "source": [
    "# Split data df yang memiliki tipe data numerik\n",
    "df_numerik = df.select_dtypes(exclude='object')\n",
    "df_numerik.head()"
   ]
  },
  {
   "cell_type": "code",
   "execution_count": 11,
   "id": "28d0cf6e",
   "metadata": {
    "cell_id": "00010-171a837b-5043-4331-88bb-05981a1d73f1",
    "deepnote_cell_height": 487,
    "deepnote_cell_type": "code",
    "deepnote_output_heights": [
     null,
     320
    ],
    "deepnote_to_be_reexecuted": false,
    "execution_millis": 973,
    "execution_start": 1656240463511,
    "pycharm": {
     "name": "#%%\n"
    },
    "source_hash": "add8fab4"
   },
   "outputs": [
    {
     "data": {
      "text/plain": "<AxesSubplot:>"
     },
     "execution_count": 11,
     "metadata": {},
     "output_type": "execute_result"
    },
    {
     "data": {
      "text/plain": "<Figure size 432x288 with 2 Axes>",
      "image/png": "[encoded data removed]"
     },
     "metadata": {
      "needs_background": "light"
     },
     "output_type": "display_data"
    }
   ],
   "source": [
    "# Membuat heatmap dari df_numerik\n",
    "sns.heatmap(df_numerik.corr())"
   ]
  },
  {
   "cell_type": "code",
   "execution_count": 12,
   "id": "90568042",
   "metadata": {
    "cell_id": "00011-a9b27234-8ad2-4182-a341-53f551990da5",
    "deepnote_cell_height": 526,
    "deepnote_cell_type": "code",
    "deepnote_output_heights": [
     null,
     305
    ],
    "deepnote_to_be_reexecuted": false,
    "execution_millis": 1135,
    "execution_start": 1656240464421,
    "pycharm": {
     "name": "#%%\n"
    },
    "source_hash": "fe1e71e1"
   },
   "outputs": [
    {
     "data": {
      "text/plain": "<AxesSubplot:>"
     },
     "execution_count": 12,
     "metadata": {},
     "output_type": "execute_result"
    },
    {
     "data": {
      "text/plain": "<Figure size 432x288 with 2 Axes>",
      "image/png": "[encoded data removed]"
     },
     "metadata": {
      "needs_background": "light"
     },
     "output_type": "display_data"
    }
   ],
   "source": [
    "# Mencari nama kolom yang memiliki korelasi tinggi dengan target variable\n",
    "high_col_num = df_numerik.corr().index[abs(df_numerik.corr()['SalePrice'])>0.55]\n",
    "\n",
    "# Membuat heatmap dari high_col_num\n",
    "sns.heatmap(df_numerik[high_col_num].corr(),annot=True,cmap=\"RdYlGn\")"
   ]
  },
  {
   "cell_type": "markdown",
   "id": "b79e1dcc",
   "metadata": {
    "cell_id": "7cccb1e897864c87ab67b48844c9e29e",
    "deepnote_cell_height": 74.796875,
    "deepnote_cell_type": "markdown",
    "pycharm": {
     "name": "#%% md\n"
    },
    "tags": []
   },
   "source": [
    "Disini dapat dilihat bahwa kolom-kolom yang memiliki korelasi tinggi dengan target variable `SalePrice` adalah kolom `OverallQuad`,`TotalBsmtSF`,`1stFlrSF`,`GrLivArea`,`FullBath`,`GarageCars`,dan `GarageArea`"
   ]
  },
  {
   "cell_type": "code",
   "execution_count": 13,
   "id": "47980a5c",
   "metadata": {
    "cell_id": "00012-abc1f05c-aaa8-45c3-b7ae-98d617d0d0ab",
    "deepnote_cell_height": 483.796875,
    "deepnote_cell_type": "code",
    "deepnote_to_be_reexecuted": false,
    "execution_millis": 151,
    "execution_start": 1656240465563,
    "pycharm": {
     "name": "#%%\n"
    },
    "source_hash": "2656ec0a"
   },
   "outputs": [
    {
     "data": {
      "text/plain": "  MSZoning Street Alley LotShape LandContour Utilities LotConfig LandSlope  \\\n0       RL   Pave   NaN      Reg         Lvl    AllPub    Inside       Gtl   \n1       RL   Pave   NaN      Reg         Lvl    AllPub       FR2       Gtl   \n2       RL   Pave   NaN      IR1         Lvl    AllPub    Inside       Gtl   \n3       RL   Pave   NaN      IR1         Lvl    AllPub    Corner       Gtl   \n4       RL   Pave   NaN      IR1         Lvl    AllPub       FR2       Gtl   \n\n  Neighborhood Condition1  ... GarageType GarageFinish GarageQual GarageCond  \\\n0      CollgCr       Norm  ...     Attchd          RFn         TA         TA   \n1      Veenker      Feedr  ...     Attchd          RFn         TA         TA   \n2      CollgCr       Norm  ...     Attchd          RFn         TA         TA   \n3      Crawfor       Norm  ...     Detchd          Unf         TA         TA   \n4      NoRidge       Norm  ...     Attchd          RFn         TA         TA   \n\n  PavedDrive PoolQC Fence MiscFeature SaleType SaleCondition  \n0          Y    NaN   NaN         NaN       WD        Normal  \n1          Y    NaN   NaN         NaN       WD        Normal  \n2          Y    NaN   NaN         NaN       WD        Normal  \n3          Y    NaN   NaN         NaN       WD       Abnorml  \n4          Y    NaN   NaN         NaN       WD        Normal  \n\n[5 rows x 43 columns]",
      "text/html": "<div>\n<style scoped>\n    .dataframe tbody tr th:only-of-type {\n        vertical-align: middle;\n    }\n\n    .dataframe tbody tr th {\n        vertical-align: top;\n    }\n\n    .dataframe thead th {\n        text-align: right;\n    }\n</style>\n<table border=\"1\" class=\"dataframe\">\n  <thead>\n    <tr style=\"text-align: right;\">\n      <th></th>\n      <th>MSZoning</th>\n      <th>Street</th>\n      <th>Alley</th>\n      <th>LotShape</th>\n      <th>LandContour</th>\n      <th>Utilities</th>\n      <th>LotConfig</th>\n      <th>LandSlope</th>\n      <th>Neighborhood</th>\n      <th>Condition1</th>\n      <th>...</th>\n      <th>GarageType</th>\n      <th>GarageFinish</th>\n      <th>GarageQual</th>\n      <th>GarageCond</th>\n      <th>PavedDrive</th>\n      <th>PoolQC</th>\n      <th>Fence</th>\n      <th>MiscFeature</th>\n      <th>SaleType</th>\n      <th>SaleCondition</th>\n    </tr>\n  </thead>\n  <tbody>\n    <tr>\n      <th>0</th>\n      <td>RL</td>\n      <td>Pave</td>\n      <td>NaN</td>\n      <td>Reg</td>\n      <td>Lvl</td>\n      <td>AllPub</td>\n      <td>Inside</td>\n      <td>Gtl</td>\n      <td>CollgCr</td>\n      <td>Norm</td>\n      <td>...</td>\n      <td>Attchd</td>\n      <td>RFn</td>\n      <td>TA</td>\n      <td>TA</td>\n      <td>Y</td>\n      <td>NaN</td>\n      <td>NaN</td>\n      <td>NaN</td>\n      <td>WD</td>\n      <td>Normal</td>\n    </tr>\n    <tr>\n      <th>1</th>\n      <td>RL</td>\n      <td>Pave</td>\n      <td>NaN</td>\n      <td>Reg</td>\n      <td>Lvl</td>\n      <td>AllPub</td>\n      <td>FR2</td>\n      <td>Gtl</td>\n      <td>Veenker</td>\n      <td>Feedr</td>\n      <td>...</td>\n      <td>Attchd</td>\n      <td>RFn</td>\n      <td>TA</td>\n      <td>TA</td>\n      <td>Y</td>\n      <td>NaN</td>\n      <td>NaN</td>\n      <td>NaN</td>\n      <td>WD</td>\n      <td>Normal</td>\n    </tr>\n    <tr>\n      <th>2</th>\n      <td>RL</td>\n      <td>Pave</td>\n      <td>NaN</td>\n      <td>IR1</td>\n      <td>Lvl</td>\n      <td>AllPub</td>\n      <td>Inside</td>\n      <td>Gtl</td>\n      <td>CollgCr</td>\n      <td>Norm</td>\n      <td>...</td>\n      <td>Attchd</td>\n      <td>RFn</td>\n      <td>TA</td>\n      <td>TA</td>\n      <td>Y</td>\n      <td>NaN</td>\n      <td>NaN</td>\n      <td>NaN</td>\n      <td>WD</td>\n      <td>Normal</td>\n    </tr>\n    <tr>\n      <th>3</th>\n      <td>RL</td>\n      <td>Pave</td>\n      <td>NaN</td>\n      <td>IR1</td>\n      <td>Lvl</td>\n      <td>AllPub</td>\n      <td>Corner</td>\n      <td>Gtl</td>\n      <td>Crawfor</td>\n      <td>Norm</td>\n      <td>...</td>\n      <td>Detchd</td>\n      <td>Unf</td>\n      <td>TA</td>\n      <td>TA</td>\n      <td>Y</td>\n      <td>NaN</td>\n      <td>NaN</td>\n      <td>NaN</td>\n      <td>WD</td>\n      <td>Abnorml</td>\n    </tr>\n    <tr>\n      <th>4</th>\n      <td>RL</td>\n      <td>Pave</td>\n      <td>NaN</td>\n      <td>IR1</td>\n      <td>Lvl</td>\n      <td>AllPub</td>\n      <td>FR2</td>\n      <td>Gtl</td>\n      <td>NoRidge</td>\n      <td>Norm</td>\n      <td>...</td>\n      <td>Attchd</td>\n      <td>RFn</td>\n      <td>TA</td>\n      <td>TA</td>\n      <td>Y</td>\n      <td>NaN</td>\n      <td>NaN</td>\n      <td>NaN</td>\n      <td>WD</td>\n      <td>Normal</td>\n    </tr>\n  </tbody>\n</table>\n<p>5 rows × 43 columns</p>\n</div>"
     },
     "execution_count": 13,
     "metadata": {},
     "output_type": "execute_result"
    }
   ],
   "source": [
    "# Membagi data yang memiliki tipe data object\n",
    "df_cat = df.select_dtypes(include=['object'])\n",
    "\n",
    "# Melihat 5 data teratas\n",
    "df_cat.head()"
   ]
  },
  {
   "cell_type": "code",
   "execution_count": 14,
   "id": "2e46f00c",
   "metadata": {
    "cell_id": "00013-e0a41c8e-8bca-4771-b925-b6c359671656",
    "deepnote_cell_height": 309,
    "deepnote_cell_type": "code",
    "deepnote_output_heights": [
     194
    ],
    "deepnote_to_be_reexecuted": false,
    "execution_millis": 4,
    "execution_start": 1656240465713,
    "pycharm": {
     "name": "#%%\n"
    },
    "source_hash": "ab7c98e9"
   },
   "outputs": [
    {
     "data": {
      "text/plain": "Index(['MSZoning', 'Street', 'Alley', 'LotShape', 'LandContour', 'Utilities',\n       'LotConfig', 'LandSlope', 'Neighborhood', 'Condition1', 'Condition2',\n       'BldgType', 'HouseStyle', 'RoofStyle', 'RoofMatl', 'Exterior1st',\n       'Exterior2nd', 'MasVnrType', 'ExterQual', 'ExterCond', 'Foundation',\n       'BsmtQual', 'BsmtCond', 'BsmtExposure', 'BsmtFinType1', 'BsmtFinType2',\n       'Heating', 'HeatingQC', 'CentralAir', 'Electrical', 'KitchenQual',\n       'Functional', 'FireplaceQu', 'GarageType', 'GarageFinish', 'GarageQual',\n       'GarageCond', 'PavedDrive', 'PoolQC', 'Fence', 'MiscFeature',\n       'SaleType', 'SaleCondition'],\n      dtype='object')"
     },
     "execution_count": 14,
     "metadata": {},
     "output_type": "execute_result"
    }
   ],
   "source": [
    "# Menampilkan kolom-kolom dengan tipe kategorikal\n",
    "df_cat.columns"
   ]
  },
  {
   "cell_type": "code",
   "execution_count": 15,
   "id": "f38159d4",
   "metadata": {
    "cell_id": "00014-37c6841f-feec-4609-8add-52f0d7178108",
    "deepnote_cell_height": 978,
    "deepnote_cell_type": "code",
    "deepnote_output_heights": [
     611
    ],
    "deepnote_to_be_reexecuted": false,
    "execution_millis": 1877,
    "execution_start": 1656240465722,
    "pycharm": {
     "name": "#%%\n"
    },
    "source_hash": "cda3162f"
   },
   "outputs": [
    {
     "data": {
      "text/plain": "<Figure size 1080x864 with 7 Axes>",
      "image/png": "[encoded data removed]"
     },
     "metadata": {
      "needs_background": "light"
     },
     "output_type": "display_data"
    }
   ],
   "source": [
    "# Membuat bentuk dasar figure dan judul\n",
    "plt.figure(figsize=(15, 12))\n",
    "plt.subplots_adjust(hspace=0.5)\n",
    "plt.suptitle(\"Correlation Plot\", fontsize=18, y=0.95)\n",
    "\n",
    "# Melakukan looping untuk plot data korelasi tinggi dengan target variable\n",
    "for n, col in enumerate(high_col_num.drop('SalePrice')):\n",
    "    # Mencari subplot dengan index n\n",
    "    ax = plt.subplot(3, 3, n + 1)\n",
    "\n",
    "    # Scatter data sesuai dengan kolom\n",
    "    ax.scatter(col,'SalePrice',data=df_numerik)\n",
    "\n",
    "    # Format nama figure\n",
    "    ax.set_title('Scatter {} terhadap SalePrice'.format(col))\n",
    "    ax.set_xlabel(col)"
   ]
  },
  {
   "cell_type": "code",
   "execution_count": 16,
   "id": "78f82db9",
   "metadata": {
    "cell_id": "00015-d959bd53-8947-4b3f-8207-6dc8f0542695",
    "deepnote_cell_height": 153,
    "deepnote_cell_type": "code",
    "deepnote_to_be_reexecuted": false,
    "execution_millis": 12,
    "execution_start": 1656240467610,
    "pycharm": {
     "name": "#%%\n"
    },
    "source_hash": "98a50f64"
   },
   "outputs": [],
   "source": [
    "# Membersihkan data dengan melihat pada visualisasi data yang tidak berkelakuan baik pada regresi\n",
    "df=df[(df['TotalBsmtSF']<=3000)]\n",
    "df=df[(df['1stFlrSF']<=2800) & (df['SalePrice']<700000)]\n",
    "df=df[(df['GrLivArea']<4000) & (df['SalePrice']<500000)]\n",
    "df=df[(df['GarageArea']>100) & (df['GarageArea']<1100)&(df['SalePrice']<600000)]"
   ]
  },
  {
   "cell_type": "code",
   "execution_count": 17,
   "id": "6925d485",
   "metadata": {
    "cell_id": "a1200a80239c45a3aaf66fa5728f1649",
    "deepnote_cell_height": 555.796875,
    "deepnote_cell_type": "code",
    "deepnote_to_be_reexecuted": false,
    "execution_millis": 316,
    "execution_start": 1656240467622,
    "pycharm": {
     "name": "#%%\n"
    },
    "source_hash": "f9423c96",
    "tags": []
   },
   "outputs": [
    {
     "data": {
      "text/plain": "   MSSubClass MSZoning  LotFrontage  LotArea Street Alley LotShape  \\\n0          60       RL         65.0     8450   Pave  none      Reg   \n1          20       RL         80.0     9600   Pave  none      Reg   \n2          60       RL         68.0    11250   Pave  none      IR1   \n3          70       RL         60.0     9550   Pave  none      IR1   \n4          60       RL         84.0    14260   Pave  none      IR1   \n\n  LandContour Utilities LotConfig  ... PoolArea PoolQC Fence MiscFeature  \\\n0         Lvl    AllPub    Inside  ...        0   none  none        none   \n1         Lvl    AllPub       FR2  ...        0   none  none        none   \n2         Lvl    AllPub    Inside  ...        0   none  none        none   \n3         Lvl    AllPub    Corner  ...        0   none  none        none   \n4         Lvl    AllPub       FR2  ...        0   none  none        none   \n\n  MiscVal MoSold  YrSold  SaleType  SaleCondition  SalePrice  \n0       0      2    2008        WD         Normal     208500  \n1       0      5    2007        WD         Normal     181500  \n2       0      9    2008        WD         Normal     223500  \n3       0      2    2006        WD        Abnorml     140000  \n4       0     12    2008        WD         Normal     250000  \n\n[5 rows x 80 columns]",
      "text/html": "<div>\n<style scoped>\n    .dataframe tbody tr th:only-of-type {\n        vertical-align: middle;\n    }\n\n    .dataframe tbody tr th {\n        vertical-align: top;\n    }\n\n    .dataframe thead th {\n        text-align: right;\n    }\n</style>\n<table border=\"1\" class=\"dataframe\">\n  <thead>\n    <tr style=\"text-align: right;\">\n      <th></th>\n      <th>MSSubClass</th>\n      <th>MSZoning</th>\n      <th>LotFrontage</th>\n      <th>LotArea</th>\n      <th>Street</th>\n      <th>Alley</th>\n      <th>LotShape</th>\n      <th>LandContour</th>\n      <th>Utilities</th>\n      <th>LotConfig</th>\n      <th>...</th>\n      <th>PoolArea</th>\n      <th>PoolQC</th>\n      <th>Fence</th>\n      <th>MiscFeature</th>\n      <th>MiscVal</th>\n      <th>MoSold</th>\n      <th>YrSold</th>\n      <th>SaleType</th>\n      <th>SaleCondition</th>\n      <th>SalePrice</th>\n    </tr>\n  </thead>\n  <tbody>\n    <tr>\n      <th>0</th>\n      <td>60</td>\n      <td>RL</td>\n      <td>65.0</td>\n      <td>8450</td>\n      <td>Pave</td>\n      <td>none</td>\n      <td>Reg</td>\n      <td>Lvl</td>\n      <td>AllPub</td>\n      <td>Inside</td>\n      <td>...</td>\n      <td>0</td>\n      <td>none</td>\n      <td>none</td>\n      <td>none</td>\n      <td>0</td>\n      <td>2</td>\n      <td>2008</td>\n      <td>WD</td>\n      <td>Normal</td>\n      <td>208500</td>\n    </tr>\n    <tr>\n      <th>1</th>\n      <td>20</td>\n      <td>RL</td>\n      <td>80.0</td>\n      <td>9600</td>\n      <td>Pave</td>\n      <td>none</td>\n      <td>Reg</td>\n      <td>Lvl</td>\n      <td>AllPub</td>\n      <td>FR2</td>\n      <td>...</td>\n      <td>0</td>\n      <td>none</td>\n      <td>none</td>\n      <td>none</td>\n      <td>0</td>\n      <td>5</td>\n      <td>2007</td>\n      <td>WD</td>\n      <td>Normal</td>\n      <td>181500</td>\n    </tr>\n    <tr>\n      <th>2</th>\n      <td>60</td>\n      <td>RL</td>\n      <td>68.0</td>\n      <td>11250</td>\n      <td>Pave</td>\n      <td>none</td>\n      <td>IR1</td>\n      <td>Lvl</td>\n      <td>AllPub</td>\n      <td>Inside</td>\n      <td>...</td>\n      <td>0</td>\n      <td>none</td>\n      <td>none</td>\n      <td>none</td>\n      <td>0</td>\n      <td>9</td>\n      <td>2008</td>\n      <td>WD</td>\n      <td>Normal</td>\n      <td>223500</td>\n    </tr>\n    <tr>\n      <th>3</th>\n      <td>70</td>\n      <td>RL</td>\n      <td>60.0</td>\n      <td>9550</td>\n      <td>Pave</td>\n      <td>none</td>\n      <td>IR1</td>\n      <td>Lvl</td>\n      <td>AllPub</td>\n      <td>Corner</td>\n      <td>...</td>\n      <td>0</td>\n      <td>none</td>\n      <td>none</td>\n      <td>none</td>\n      <td>0</td>\n      <td>2</td>\n      <td>2006</td>\n      <td>WD</td>\n      <td>Abnorml</td>\n      <td>140000</td>\n    </tr>\n    <tr>\n      <th>4</th>\n      <td>60</td>\n      <td>RL</td>\n      <td>84.0</td>\n      <td>14260</td>\n      <td>Pave</td>\n      <td>none</td>\n      <td>IR1</td>\n      <td>Lvl</td>\n      <td>AllPub</td>\n      <td>FR2</td>\n      <td>...</td>\n      <td>0</td>\n      <td>none</td>\n      <td>none</td>\n      <td>none</td>\n      <td>0</td>\n      <td>12</td>\n      <td>2008</td>\n      <td>WD</td>\n      <td>Normal</td>\n      <td>250000</td>\n    </tr>\n  </tbody>\n</table>\n<p>5 rows × 80 columns</p>\n</div>"
     },
     "execution_count": 17,
     "metadata": {},
     "output_type": "execute_result"
    }
   ],
   "source": [
    "# Menampilkan kolom-kolom yang memiliki nilai NaN\n",
    "nan_cols = ['Alley','BsmtQual','BsmtCond','BsmtExposure','BsmtFinType1','BsmtFinType2','FireplaceQu','GarageType','GarageFinish',\n",
    "'GarageQual','GarageCond','PoolQC','Fence','MiscFeature']\n",
    "\n",
    "# Melakukan pengisian nilai data yang kosong dengan none sesuai data description pada dataset\n",
    "df[nan_cols] = df[nan_cols].fillna('none')\n",
    "\n",
    "# Menampilkan lima baris pertama\n",
    "df.head()"
   ]
  },
  {
   "cell_type": "code",
   "execution_count": 18,
   "id": "9f52a1e3",
   "metadata": {
    "cell_id": "00016-827b1073-e0db-4e63-b108-8ce6b602323e",
    "deepnote_cell_height": 467,
    "deepnote_cell_type": "code",
    "deepnote_to_be_reexecuted": false,
    "execution_millis": 22,
    "execution_start": 1656240467951,
    "pycharm": {
     "name": "#%%\n"
    },
    "source_hash": "d4ea925c"
   },
   "outputs": [
    {
     "data": {
      "text/plain": "              NaN columns\nLotFrontage           249\nMasVnrType              8\nMasVnrArea              8\nElectrical              1\nKitchenAbvGr            0",
      "text/html": "<div>\n<style scoped>\n    .dataframe tbody tr th:only-of-type {\n        vertical-align: middle;\n    }\n\n    .dataframe tbody tr th {\n        vertical-align: top;\n    }\n\n    .dataframe thead th {\n        text-align: right;\n    }\n</style>\n<table border=\"1\" class=\"dataframe\">\n  <thead>\n    <tr style=\"text-align: right;\">\n      <th></th>\n      <th>NaN columns</th>\n    </tr>\n  </thead>\n  <tbody>\n    <tr>\n      <th>LotFrontage</th>\n      <td>249</td>\n    </tr>\n    <tr>\n      <th>MasVnrType</th>\n      <td>8</td>\n    </tr>\n    <tr>\n      <th>MasVnrArea</th>\n      <td>8</td>\n    </tr>\n    <tr>\n      <th>Electrical</th>\n      <td>1</td>\n    </tr>\n    <tr>\n      <th>KitchenAbvGr</th>\n      <td>0</td>\n    </tr>\n  </tbody>\n</table>\n</div>"
     },
     "execution_count": 18,
     "metadata": {},
     "output_type": "execute_result"
    }
   ],
   "source": [
    "# Mencari jumlah nilai data NaN pada dataset\n",
    "nan_df = pd.DataFrame(df.isnull().sum().sort_values(ascending=False),columns=['NaN columns'])\n",
    "\n",
    "# Menampilkan 5 data pertama\n",
    "nan_df.head()"
   ]
  },
  {
   "cell_type": "code",
   "execution_count": 19,
   "id": "a81d40f2",
   "metadata": {
    "cell_id": "00017-13d82ea3-056e-4846-8bea-d9f5d7646dac",
    "deepnote_cell_height": 99,
    "deepnote_cell_type": "code",
    "deepnote_to_be_reexecuted": false,
    "execution_millis": 4,
    "execution_start": 1656240467994,
    "pycharm": {
     "name": "#%%\n"
    },
    "source_hash": "d515514a"
   },
   "outputs": [],
   "source": [
    "# Membuang kolom-kolom dengan nilai NaN melebihi 10% data yaitu sekitar 100 data\n",
    "df.drop(nan_df[nan_df['NaN columns']>100].index,axis=1,inplace=True)"
   ]
  },
  {
   "cell_type": "code",
   "execution_count": 20,
   "id": "0e30e7b9",
   "metadata": {
    "cell_id": "00018-ea78db32-fbb9-44fa-8fea-2ce89c081722",
    "deepnote_cell_height": 7299.78125,
    "deepnote_cell_type": "code",
    "deepnote_output_heights": [
     117.1875,
     59.59375,
     78.796875,
     98,
     98,
     59.59375,
     117.1875,
     78.796875,
     501.1875,
     194,
     155.59375,
     117.1875,
     174.796875,
     136.390625,
     155.59375,
     290,
     328.390625,
     98,
     98,
     98,
     136.390625,
     117.1875,
     117.1875,
     117.1875,
     155.59375,
     155.59375,
     136.390625,
     117.1875,
     59.59375,
     117.1875,
     98,
     155.59375,
     136.390625,
     136.390625,
     78.796875,
     117.1875,
     117.1875,
     78.796875,
     98,
     117.1875,
     117.1875,
     194,
     136.390625
    ],
    "deepnote_to_be_reexecuted": false,
    "execution_millis": 341,
    "execution_start": 1656240468010,
    "pycharm": {
     "name": "#%%\n"
    },
    "source_hash": "d91cc1db"
   },
   "outputs": [
    {
     "data": {
      "text/plain": "RL         79.632353\nRM         14.191176\nFV          4.779412\nRH          0.882353\nC (all)     0.514706\nName: MSZoning, dtype: float64"
     },
     "metadata": {},
     "output_type": "display_data"
    },
    {
     "data": {
      "text/plain": "Pave    99.705882\nGrvl     0.294118\nName: Street, dtype: float64"
     },
     "metadata": {},
     "output_type": "display_data"
    },
    {
     "data": {
      "text/plain": "none    93.970588\nGrvl     3.161765\nPave     2.867647\nName: Alley, dtype: float64"
     },
     "metadata": {},
     "output_type": "display_data"
    },
    {
     "data": {
      "text/plain": "Reg    62.867647\nIR1    33.602941\nIR2     2.867647\nIR3     0.661765\nName: LotShape, dtype: float64"
     },
     "metadata": {},
     "output_type": "display_data"
    },
    {
     "data": {
      "text/plain": "Lvl    90.441176\nBnk     3.823529\nHLS     3.455882\nLow     2.279412\nName: LandContour, dtype: float64"
     },
     "metadata": {},
     "output_type": "display_data"
    },
    {
     "data": {
      "text/plain": "AllPub    99.926471\nNoSeWa     0.073529\nName: Utilities, dtype: float64"
     },
     "metadata": {},
     "output_type": "display_data"
    },
    {
     "data": {
      "text/plain": "Inside     71.838235\nCorner     18.088235\nCulDSac     6.544118\nFR2         3.235294\nFR3         0.294118\nName: LotConfig, dtype: float64"
     },
     "metadata": {},
     "output_type": "display_data"
    },
    {
     "data": {
      "text/plain": "Gtl    94.779412\nMod     4.338235\nSev     0.882353\nName: LandSlope, dtype: float64"
     },
     "metadata": {},
     "output_type": "display_data"
    },
    {
     "data": {
      "text/plain": "NAmes      16.102941\nCollgCr    10.882353\nOldTown     7.426471\nSomerst     6.250000\nGilbert     5.808824\nEdwards     5.588235\nNWAmes      5.367647\nSawyer      5.220588\nNridgHt     5.220588\nSawyerW     4.264706\nCrawfor     3.750000\nBrkSide     3.529412\nMitchel     3.161765\nTimber      2.720588\nNoRidge     2.720588\nIDOTRR      2.058824\nClearCr     1.985294\nStoneBr     1.617647\nSWISU       1.470588\nBlmngtn     1.250000\nBrDale      1.102941\nMeadowV     0.882353\nVeenker     0.808824\nNPkVill     0.661765\nBlueste     0.147059\nName: Neighborhood, dtype: float64"
     },
     "metadata": {},
     "output_type": "display_data"
    },
    {
     "data": {
      "text/plain": "Norm      86.764706\nFeedr      5.000000\nArtery     3.235294\nRRAn       1.838235\nPosN       1.250000\nRRAe       0.808824\nPosA       0.588235\nRRNn       0.367647\nRRNe       0.147059\nName: Condition1, dtype: float64"
     },
     "metadata": {},
     "output_type": "display_data"
    },
    {
     "data": {
      "text/plain": "Norm      99.117647\nFeedr      0.367647\nArtery     0.147059\nRRNn       0.147059\nPosA       0.073529\nRRAn       0.073529\nRRAe       0.073529\nName: Condition2, dtype: float64"
     },
     "metadata": {},
     "output_type": "display_data"
    },
    {
     "data": {
      "text/plain": "1Fam      84.411765\nTwnhsE     8.308824\nDuplex     2.941176\nTwnhs      2.794118\n2fmCon     1.544118\nName: BldgType, dtype: float64"
     },
     "metadata": {},
     "output_type": "display_data"
    },
    {
     "data": {
      "text/plain": "1Story    49.632353\n2Story    31.176471\n1.5Fin    10.147059\nSLvl       4.779412\nSFoyer     2.279412\n1.5Unf     0.808824\n2.5Unf     0.735294\n2.5Fin     0.441176\nName: HouseStyle, dtype: float64"
     },
     "metadata": {},
     "output_type": "display_data"
    },
    {
     "data": {
      "text/plain": "Gable      78.308824\nHip        19.485294\nFlat        0.882353\nGambrel     0.735294\nMansard     0.441176\nShed        0.147059\nName: RoofStyle, dtype: float64"
     },
     "metadata": {},
     "output_type": "display_data"
    },
    {
     "data": {
      "text/plain": "CompShg    98.382353\nTar&Grv     0.735294\nWdShngl     0.367647\nWdShake     0.294118\nMetal       0.073529\nMembran     0.073529\nRoll        0.073529\nName: RoofMatl, dtype: float64"
     },
     "metadata": {},
     "output_type": "display_data"
    },
    {
     "data": {
      "text/plain": "VinylSd    36.102941\nHdBoard    15.661765\nMetalSd    14.926471\nWd Sdng    13.676471\nPlywood     7.720588\nCemntBd     3.676471\nBrkFace     3.529412\nWdShing     1.617647\nStucco      1.617647\nAsbShng     1.102941\nBrkComm     0.147059\nStone       0.073529\nImStucc     0.073529\nCBlock      0.073529\nName: Exterior1st, dtype: float64"
     },
     "metadata": {},
     "output_type": "display_data"
    },
    {
     "data": {
      "text/plain": "VinylSd    35.294118\nMetalSd    14.632353\nHdBoard    14.558824\nWd Sdng    13.308824\nPlywood     9.779412\nCmentBd     3.676471\nWd Shng     2.352941\nBrkFace     1.691176\nStucco      1.691176\nAsbShng     1.176471\nImStucc     0.661765\nBrk Cmn     0.514706\nStone       0.367647\nAsphShn     0.147059\nOther       0.073529\nCBlock      0.073529\nName: Exterior2nd, dtype: float64"
     },
     "metadata": {},
     "output_type": "display_data"
    },
    {
     "data": {
      "text/plain": "None       57.647059\nBrkFace    31.838235\nStone       8.823529\nBrkCmn      1.102941\nName: MasVnrType, dtype: float64"
     },
     "metadata": {},
     "output_type": "display_data"
    },
    {
     "data": {
      "text/plain": "TA    61.176471\nGd    35.294118\nEx     3.088235\nFa     0.441176\nName: ExterQual, dtype: float64"
     },
     "metadata": {},
     "output_type": "display_data"
    },
    {
     "data": {
      "text/plain": "TA    88.529412\nGd    10.000000\nFa     1.323529\nEx     0.147059\nName: ExterCond, dtype: float64"
     },
     "metadata": {},
     "output_type": "display_data"
    },
    {
     "data": {
      "text/plain": "PConc     45.367647\nCBlock    43.014706\nBrkTil     9.485294\nSlab       1.470588\nStone      0.441176\nWood       0.220588\nName: Foundation, dtype: float64"
     },
     "metadata": {},
     "output_type": "display_data"
    },
    {
     "data": {
      "text/plain": "Gd      43.897059\nTA      43.602941\nEx       7.941176\nFa       2.352941\nnone     2.205882\nName: BsmtQual, dtype: float64"
     },
     "metadata": {},
     "output_type": "display_data"
    },
    {
     "data": {
      "text/plain": "TA      90.294118\nGd       4.632353\nFa       2.794118\nnone     2.205882\nPo       0.073529\nName: BsmtCond, dtype: float64"
     },
     "metadata": {},
     "output_type": "display_data"
    },
    {
     "data": {
      "text/plain": "No      65.514706\nAv      15.294118\nGd       8.823529\nMn       8.088235\nnone     2.279412\nName: BsmtExposure, dtype: float64"
     },
     "metadata": {},
     "output_type": "display_data"
    },
    {
     "data": {
      "text/plain": "GLQ     29.044118\nUnf     28.897059\nALQ     15.220588\nBLQ     10.294118\nRec      9.264706\nLwQ      5.073529\nnone     2.205882\nName: BsmtFinType1, dtype: float64"
     },
     "metadata": {},
     "output_type": "display_data"
    },
    {
     "data": {
      "text/plain": "Unf     86.029412\nRec      3.897059\nLwQ      3.308824\nBLQ      2.352941\nnone     2.205882\nALQ      1.323529\nGLQ      0.882353\nName: BsmtFinType2, dtype: float64"
     },
     "metadata": {},
     "output_type": "display_data"
    },
    {
     "data": {
      "text/plain": "GasA     98.088235\nGasW      1.250000\nWall      0.294118\nGrav      0.220588\nOthW      0.073529\nFloor     0.073529\nName: Heating, dtype: float64"
     },
     "metadata": {},
     "output_type": "display_data"
    },
    {
     "data": {
      "text/plain": "Ex    51.691176\nTA    28.970588\nGd    16.323529\nFa     2.941176\nPo     0.073529\nName: HeatingQC, dtype: float64"
     },
     "metadata": {},
     "output_type": "display_data"
    },
    {
     "data": {
      "text/plain": "Y    94.926471\nN     5.073529\nName: CentralAir, dtype: float64"
     },
     "metadata": {},
     "output_type": "display_data"
    },
    {
     "data": {
      "text/plain": "SBrkr    92.132353\nFuseA     5.955882\nFuseF     1.617647\nFuseP     0.147059\nMix       0.073529\nName: Electrical, dtype: float64"
     },
     "metadata": {},
     "output_type": "display_data"
    },
    {
     "data": {
      "text/plain": "TA    49.558824\nGd    42.426471\nEx     6.250000\nFa     1.764706\nName: KitchenQual, dtype: float64"
     },
     "metadata": {},
     "output_type": "display_data"
    },
    {
     "data": {
      "text/plain": "Typ     93.308824\nMin2     2.352941\nMin1     2.279412\nMod      0.882353\nMaj1     0.808824\nMaj2     0.294118\nSev      0.073529\nName: Functional, dtype: float64"
     },
     "metadata": {},
     "output_type": "display_data"
    },
    {
     "data": {
      "text/plain": "none    45.367647\nGd      26.691176\nTA      22.573529\nFa       2.426471\nEx       1.617647\nPo       1.323529\nName: FireplaceQu, dtype: float64"
     },
     "metadata": {},
     "output_type": "display_data"
    },
    {
     "data": {
      "text/plain": "Attchd     63.014706\nDetchd     28.382353\nBuiltIn     6.176471\nBasment     1.397059\nCarPort     0.661765\n2Types      0.367647\nName: GarageType, dtype: float64"
     },
     "metadata": {},
     "output_type": "display_data"
    },
    {
     "data": {
      "text/plain": "Unf    44.485294\nRFn    30.661765\nFin    24.852941\nName: GarageFinish, dtype: float64"
     },
     "metadata": {},
     "output_type": "display_data"
    },
    {
     "data": {
      "text/plain": "TA    95.000000\nFa     3.529412\nGd     1.029412\nEx     0.220588\nPo     0.220588\nName: GarageQual, dtype: float64"
     },
     "metadata": {},
     "output_type": "display_data"
    },
    {
     "data": {
      "text/plain": "TA    96.102941\nFa     2.573529\nGd     0.661765\nPo     0.514706\nEx     0.147059\nName: GarageCond, dtype: float64"
     },
     "metadata": {},
     "output_type": "display_data"
    },
    {
     "data": {
      "text/plain": "Y    93.676471\nN     4.264706\nP     2.058824\nName: PavedDrive, dtype: float64"
     },
     "metadata": {},
     "output_type": "display_data"
    },
    {
     "data": {
      "text/plain": "none    99.632353\nFa       0.147059\nGd       0.147059\nEx       0.073529\nName: PoolQC, dtype: float64"
     },
     "metadata": {},
     "output_type": "display_data"
    },
    {
     "data": {
      "text/plain": "none     80.588235\nMnPrv    10.661765\nGdPrv     4.264706\nGdWo      3.676471\nMnWw      0.808824\nName: Fence, dtype: float64"
     },
     "metadata": {},
     "output_type": "display_data"
    },
    {
     "data": {
      "text/plain": "none    96.323529\nShed     3.382353\nGar2     0.147059\nOthr     0.073529\nTenC     0.073529\nName: MiscFeature, dtype: float64"
     },
     "metadata": {},
     "output_type": "display_data"
    },
    {
     "data": {
      "text/plain": "WD       87.205882\nNew       8.161765\nCOD       3.088235\nConLD     0.441176\nConLI     0.294118\nCWD       0.294118\nConLw     0.294118\nCon       0.147059\nOth       0.073529\nName: SaleType, dtype: float64"
     },
     "metadata": {},
     "output_type": "display_data"
    },
    {
     "data": {
      "text/plain": "Normal     83.014706\nPartial     8.382353\nAbnorml     6.250000\nFamily      1.470588\nAlloca      0.808824\nAdjLand     0.073529\nName: SaleCondition, dtype: float64"
     },
     "metadata": {},
     "output_type": "display_data"
    }
   ],
   "source": [
    "# Melakukan looping untuk menampilkan persentase unique dari data categorical \n",
    "for col in df.select_dtypes(include='object').columns:\n",
    "    display(df[col].value_counts()/len(df)*100)"
   ]
  },
  {
   "cell_type": "code",
   "execution_count": 21,
   "id": "4b53a9d2",
   "metadata": {
    "cell_id": "00019-8b19c9a3-041c-4011-b10b-8c7a7588fe29",
    "deepnote_cell_height": 135,
    "deepnote_cell_type": "code",
    "deepnote_to_be_reexecuted": false,
    "execution_millis": 92,
    "execution_start": 1656240468351,
    "pycharm": {
     "name": "#%%\n"
    },
    "source_hash": "5d659e6e"
   },
   "outputs": [],
   "source": [
    "# Melakukan looping pada setiap kolom dan membuang kolom yang memiliki unique bersifat jomplang/ekstrim\n",
    "for col in df.select_dtypes(include='object').columns:\n",
    "    if df[col].value_counts()[0]/len(df)>0.95:\n",
    "        df.drop(columns=col,inplace=True)"
   ]
  },
  {
   "cell_type": "code",
   "execution_count": 22,
   "id": "b964cddf",
   "metadata": {
    "cell_id": "00020-78b387a5-11d8-4acb-be81-9a2305d523df",
    "deepnote_cell_height": 99,
    "deepnote_cell_type": "code",
    "deepnote_to_be_reexecuted": false,
    "execution_millis": 1,
    "execution_start": 1656240468501,
    "pycharm": {
     "name": "#%%\n"
    },
    "source_hash": "808d000e"
   },
   "outputs": [],
   "source": [
    "# Membuang sisa baris yang masih menyisakan data yang kosong\n",
    "df = df.dropna()"
   ]
  },
  {
   "cell_type": "code",
   "execution_count": 23,
   "id": "7031b77d",
   "metadata": {
    "cell_id": "00021-3e22d6f3-dde4-402c-a4b6-8ff632e9bb7a",
    "deepnote_cell_height": 153,
    "deepnote_cell_type": "code",
    "deepnote_to_be_reexecuted": false,
    "execution_millis": 1,
    "execution_start": 1656240468502,
    "pycharm": {
     "name": "#%%\n"
    },
    "source_hash": "929b2e1c"
   },
   "outputs": [],
   "source": [
    "# Membagi data menjadi category\n",
    "df_cat2 = df.select_dtypes(include=['object'])\n",
    "\n",
    "# Membagi data menjadi numerical\n",
    "df_num2 = df.select_dtypes(exclude=['object'])"
   ]
  },
  {
   "cell_type": "code",
   "execution_count": 24,
   "id": "0181f01a",
   "metadata": {
    "cell_id": "00022-0c54b012-88f9-421d-ae0a-90a689234f0e",
    "deepnote_cell_height": 360.796875,
    "deepnote_cell_type": "code",
    "deepnote_to_be_reexecuted": false,
    "execution_millis": 628,
    "execution_start": 1656240468513,
    "pycharm": {
     "name": "#%%\n"
    },
    "source_hash": "96b5df6d"
   },
   "outputs": [
    {
     "data": {
      "text/plain": "   MSZoning_FV  MSZoning_RH  MSZoning_RL  MSZoning_RM  Alley_Pave  Alley_none  \\\n0            0            0            1            0           0           1   \n1            0            0            1            0           0           1   \n\n   LotShape_IR2  LotShape_IR3  LotShape_Reg  LandContour_HLS  ...  \\\n0             0             0             1                0  ...   \n1             0             0             1                0  ...   \n\n   SaleType_ConLI  SaleType_ConLw  SaleType_New  SaleType_Oth  SaleType_WD  \\\n0               0               0             0             0            1   \n1               0               0             0             0            1   \n\n   SaleCondition_AdjLand  SaleCondition_Alloca  SaleCondition_Family  \\\n0                      0                     0                     0   \n1                      0                     0                     0   \n\n   SaleCondition_Normal  SaleCondition_Partial  \n0                     1                      0  \n1                     1                      0  \n\n[2 rows x 185 columns]",
      "text/html": "<div>\n<style scoped>\n    .dataframe tbody tr th:only-of-type {\n        vertical-align: middle;\n    }\n\n    .dataframe tbody tr th {\n        vertical-align: top;\n    }\n\n    .dataframe thead th {\n        text-align: right;\n    }\n</style>\n<table border=\"1\" class=\"dataframe\">\n  <thead>\n    <tr style=\"text-align: right;\">\n      <th></th>\n      <th>MSZoning_FV</th>\n      <th>MSZoning_RH</th>\n      <th>MSZoning_RL</th>\n      <th>MSZoning_RM</th>\n      <th>Alley_Pave</th>\n      <th>Alley_none</th>\n      <th>LotShape_IR2</th>\n      <th>LotShape_IR3</th>\n      <th>LotShape_Reg</th>\n      <th>LandContour_HLS</th>\n      <th>...</th>\n      <th>SaleType_ConLI</th>\n      <th>SaleType_ConLw</th>\n      <th>SaleType_New</th>\n      <th>SaleType_Oth</th>\n      <th>SaleType_WD</th>\n      <th>SaleCondition_AdjLand</th>\n      <th>SaleCondition_Alloca</th>\n      <th>SaleCondition_Family</th>\n      <th>SaleCondition_Normal</th>\n      <th>SaleCondition_Partial</th>\n    </tr>\n  </thead>\n  <tbody>\n    <tr>\n      <th>0</th>\n      <td>0</td>\n      <td>0</td>\n      <td>1</td>\n      <td>0</td>\n      <td>0</td>\n      <td>1</td>\n      <td>0</td>\n      <td>0</td>\n      <td>1</td>\n      <td>0</td>\n      <td>...</td>\n      <td>0</td>\n      <td>0</td>\n      <td>0</td>\n      <td>0</td>\n      <td>1</td>\n      <td>0</td>\n      <td>0</td>\n      <td>0</td>\n      <td>1</td>\n      <td>0</td>\n    </tr>\n    <tr>\n      <th>1</th>\n      <td>0</td>\n      <td>0</td>\n      <td>1</td>\n      <td>0</td>\n      <td>0</td>\n      <td>1</td>\n      <td>0</td>\n      <td>0</td>\n      <td>1</td>\n      <td>0</td>\n      <td>...</td>\n      <td>0</td>\n      <td>0</td>\n      <td>0</td>\n      <td>0</td>\n      <td>1</td>\n      <td>0</td>\n      <td>0</td>\n      <td>0</td>\n      <td>1</td>\n      <td>0</td>\n    </tr>\n  </tbody>\n</table>\n<p>2 rows × 185 columns</p>\n</div>"
     },
     "execution_count": 24,
     "metadata": {},
     "output_type": "execute_result"
    }
   ],
   "source": [
    "# Membagi data categorical menjadi kolom-kolom baru menggunakan dummy variable berjumlah n-1\n",
    "df1=pd.get_dummies(data=df_cat2,drop_first=True)\n",
    "\n",
    "# Menampilkan 2 baris pertama\n",
    "df1.head(2)"
   ]
  },
  {
   "cell_type": "code",
   "execution_count": 25,
   "id": "b8dfd13d",
   "metadata": {
    "cell_id": "00023-1d58f692-b358-4826-8f01-735840645362",
    "deepnote_cell_height": 483.796875,
    "deepnote_cell_type": "code",
    "deepnote_to_be_reexecuted": false,
    "execution_millis": 867,
    "execution_start": 1656240469134,
    "pycharm": {
     "name": "#%%\n"
    },
    "source_hash": "5cebef85"
   },
   "outputs": [
    {
     "data": {
      "text/plain": "   MSZoning_FV  MSZoning_RH  MSZoning_RL  MSZoning_RM  Alley_Pave  Alley_none  \\\n0            0            0            1            0           0           1   \n1            0            0            1            0           0           1   \n2            0            0            1            0           0           1   \n3            0            0            1            0           0           1   \n4            0            0            1            0           0           1   \n\n   LotShape_IR2  LotShape_IR3  LotShape_Reg  LandContour_HLS  ...  WoodDeckSF  \\\n0             0             0             1                0  ...           0   \n1             0             0             1                0  ...         298   \n2             0             0             0                0  ...           0   \n3             0             0             0                0  ...           0   \n4             0             0             0                0  ...         192   \n\n   OpenPorchSF  EnclosedPorch  3SsnPorch  ScreenPorch  PoolArea  MiscVal  \\\n0           61              0          0            0         0        0   \n1            0              0          0            0         0        0   \n2           42              0          0            0         0        0   \n3           35            272          0            0         0        0   \n4           84              0          0            0         0        0   \n\n   MoSold  YrSold  SalePrice  \n0       2    2008     208500  \n1       5    2007     181500  \n2       9    2008     223500  \n3       2    2006     140000  \n4      12    2008     250000  \n\n[5 rows x 221 columns]",
      "text/html": "<div>\n<style scoped>\n    .dataframe tbody tr th:only-of-type {\n        vertical-align: middle;\n    }\n\n    .dataframe tbody tr th {\n        vertical-align: top;\n    }\n\n    .dataframe thead th {\n        text-align: right;\n    }\n</style>\n<table border=\"1\" class=\"dataframe\">\n  <thead>\n    <tr style=\"text-align: right;\">\n      <th></th>\n      <th>MSZoning_FV</th>\n      <th>MSZoning_RH</th>\n      <th>MSZoning_RL</th>\n      <th>MSZoning_RM</th>\n      <th>Alley_Pave</th>\n      <th>Alley_none</th>\n      <th>LotShape_IR2</th>\n      <th>LotShape_IR3</th>\n      <th>LotShape_Reg</th>\n      <th>LandContour_HLS</th>\n      <th>...</th>\n      <th>WoodDeckSF</th>\n      <th>OpenPorchSF</th>\n      <th>EnclosedPorch</th>\n      <th>3SsnPorch</th>\n      <th>ScreenPorch</th>\n      <th>PoolArea</th>\n      <th>MiscVal</th>\n      <th>MoSold</th>\n      <th>YrSold</th>\n      <th>SalePrice</th>\n    </tr>\n  </thead>\n  <tbody>\n    <tr>\n      <th>0</th>\n      <td>0</td>\n      <td>0</td>\n      <td>1</td>\n      <td>0</td>\n      <td>0</td>\n      <td>1</td>\n      <td>0</td>\n      <td>0</td>\n      <td>1</td>\n      <td>0</td>\n      <td>...</td>\n      <td>0</td>\n      <td>61</td>\n      <td>0</td>\n      <td>0</td>\n      <td>0</td>\n      <td>0</td>\n      <td>0</td>\n      <td>2</td>\n      <td>2008</td>\n      <td>208500</td>\n    </tr>\n    <tr>\n      <th>1</th>\n      <td>0</td>\n      <td>0</td>\n      <td>1</td>\n      <td>0</td>\n      <td>0</td>\n      <td>1</td>\n      <td>0</td>\n      <td>0</td>\n      <td>1</td>\n      <td>0</td>\n      <td>...</td>\n      <td>298</td>\n      <td>0</td>\n      <td>0</td>\n      <td>0</td>\n      <td>0</td>\n      <td>0</td>\n      <td>0</td>\n      <td>5</td>\n      <td>2007</td>\n      <td>181500</td>\n    </tr>\n    <tr>\n      <th>2</th>\n      <td>0</td>\n      <td>0</td>\n      <td>1</td>\n      <td>0</td>\n      <td>0</td>\n      <td>1</td>\n      <td>0</td>\n      <td>0</td>\n      <td>0</td>\n      <td>0</td>\n      <td>...</td>\n      <td>0</td>\n      <td>42</td>\n      <td>0</td>\n      <td>0</td>\n      <td>0</td>\n      <td>0</td>\n      <td>0</td>\n      <td>9</td>\n      <td>2008</td>\n      <td>223500</td>\n    </tr>\n    <tr>\n      <th>3</th>\n      <td>0</td>\n      <td>0</td>\n      <td>1</td>\n      <td>0</td>\n      <td>0</td>\n      <td>1</td>\n      <td>0</td>\n      <td>0</td>\n      <td>0</td>\n      <td>0</td>\n      <td>...</td>\n      <td>0</td>\n      <td>35</td>\n      <td>272</td>\n      <td>0</td>\n      <td>0</td>\n      <td>0</td>\n      <td>0</td>\n      <td>2</td>\n      <td>2006</td>\n      <td>140000</td>\n    </tr>\n    <tr>\n      <th>4</th>\n      <td>0</td>\n      <td>0</td>\n      <td>1</td>\n      <td>0</td>\n      <td>0</td>\n      <td>1</td>\n      <td>0</td>\n      <td>0</td>\n      <td>0</td>\n      <td>0</td>\n      <td>...</td>\n      <td>192</td>\n      <td>84</td>\n      <td>0</td>\n      <td>0</td>\n      <td>0</td>\n      <td>0</td>\n      <td>0</td>\n      <td>12</td>\n      <td>2008</td>\n      <td>250000</td>\n    </tr>\n  </tbody>\n</table>\n<p>5 rows × 221 columns</p>\n</div>"
     },
     "execution_count": 25,
     "metadata": {},
     "output_type": "execute_result"
    }
   ],
   "source": [
    "# Menggabungkan data yang dipisahkan \n",
    "data=pd.concat([df1, df_num2], axis=1)\n",
    "\n",
    "# Menampilkan 5 data pertama\n",
    "data.head()"
   ]
  },
  {
   "cell_type": "code",
   "execution_count": 26,
   "id": "7059c932",
   "metadata": {
    "cell_id": "00024-5f1c91ba-ebbc-40be-9853-80c44b99d7dd",
    "deepnote_cell_height": 171,
    "deepnote_cell_type": "code",
    "deepnote_to_be_reexecuted": false,
    "execution_millis": 5473716,
    "execution_start": 1656240469813,
    "pycharm": {
     "name": "#%%\n"
    },
    "source_hash": "b69adf2a"
   },
   "outputs": [],
   "source": [
    "# Membuat sebuah fungsi untuk mencari nilai VIF/Variance Inflation Function\n",
    "def calc_vif(x):\n",
    "    vif=pd.DataFrame()\n",
    "    vif['variable']=x.columns\n",
    "    vif['vif']=[variance_inflation_factor(x.values,i) for i in range (x.shape[1])]\n",
    "    return(vif)"
   ]
  },
  {
   "cell_type": "code",
   "execution_count": 27,
   "id": "5ea07c34",
   "metadata": {
    "cell_id": "00025-52239f24-7edc-4d4d-a97b-bd7df5c53583",
    "deepnote_cell_height": 742.796875,
    "deepnote_cell_type": "code",
    "deepnote_to_be_reexecuted": false,
    "execution_millis": 90643,
    "execution_start": 1656240469817,
    "pycharm": {
     "name": "#%%\n"
    },
    "source_hash": "a8a6fa3f"
   },
   "outputs": [
    {
     "data": {
      "text/plain": "                  variable       vif\n192             BsmtFinSF1       inf\n199              GrLivArea       inf\n125      BsmtFinType1_none       inf\n115          BsmtCond_none       inf\n113            BsmtCond_Po       inf\n..                     ...       ...\n180  SaleCondition_AdjLand  1.225402\n173           SaleType_Con  1.209728\n48         Condition1_RRNe  1.202849\n14           LotConfig_FR3  1.192716\n178           SaleType_Oth  1.068616\n\n[220 rows x 2 columns]",
      "text/html": "<div>\n<style scoped>\n    .dataframe tbody tr th:only-of-type {\n        vertical-align: middle;\n    }\n\n    .dataframe tbody tr th {\n        vertical-align: top;\n    }\n\n    .dataframe thead th {\n        text-align: right;\n    }\n</style>\n<table border=\"1\" class=\"dataframe\">\n  <thead>\n    <tr style=\"text-align: right;\">\n      <th></th>\n      <th>variable</th>\n      <th>vif</th>\n    </tr>\n  </thead>\n  <tbody>\n    <tr>\n      <th>192</th>\n      <td>BsmtFinSF1</td>\n      <td>inf</td>\n    </tr>\n    <tr>\n      <th>199</th>\n      <td>GrLivArea</td>\n      <td>inf</td>\n    </tr>\n    <tr>\n      <th>125</th>\n      <td>BsmtFinType1_none</td>\n      <td>inf</td>\n    </tr>\n    <tr>\n      <th>115</th>\n      <td>BsmtCond_none</td>\n      <td>inf</td>\n    </tr>\n    <tr>\n      <th>113</th>\n      <td>BsmtCond_Po</td>\n      <td>inf</td>\n    </tr>\n    <tr>\n      <th>...</th>\n      <td>...</td>\n      <td>...</td>\n    </tr>\n    <tr>\n      <th>180</th>\n      <td>SaleCondition_AdjLand</td>\n      <td>1.225402</td>\n    </tr>\n    <tr>\n      <th>173</th>\n      <td>SaleType_Con</td>\n      <td>1.209728</td>\n    </tr>\n    <tr>\n      <th>48</th>\n      <td>Condition1_RRNe</td>\n      <td>1.202849</td>\n    </tr>\n    <tr>\n      <th>14</th>\n      <td>LotConfig_FR3</td>\n      <td>1.192716</td>\n    </tr>\n    <tr>\n      <th>178</th>\n      <td>SaleType_Oth</td>\n      <td>1.068616</td>\n    </tr>\n  </tbody>\n</table>\n<p>220 rows × 2 columns</p>\n</div>"
     },
     "execution_count": 27,
     "metadata": {},
     "output_type": "execute_result"
    }
   ],
   "source": [
    "# Menggunakan fungsi calc_vif untuk mengurutkan VIF dari nilai terbesar ke terkecil\n",
    "vif = calc_vif(data.drop(columns='SalePrice')).sort_values('vif',ascending=False)\n",
    "\n",
    "# Menampilkan 5 data pertama\n",
    "vif"
   ]
  },
  {
   "cell_type": "code",
   "execution_count": 28,
   "id": "ef7a16b9",
   "metadata": {
    "cell_id": "00026-0ba11b8b-ee8b-4c9a-b33b-7861cfaaa642",
    "deepnote_cell_height": 99,
    "deepnote_cell_type": "code",
    "deepnote_to_be_reexecuted": false,
    "execution_millis": 0,
    "execution_start": 1656240560346,
    "pycharm": {
     "name": "#%%\n"
    },
    "source_hash": "4dbbdd93"
   },
   "outputs": [],
   "source": [
    "# Mencari nama kolom dengan vif yang lebih besar dari 5\n",
    "highcor_col = vif[vif['vif']>=5]['variable'].tolist()"
   ]
  },
  {
   "cell_type": "code",
   "execution_count": 29,
   "id": "9033fc46",
   "metadata": {
    "cell_id": "00027-1e4ebb32-7c92-4794-ad96-fa8de3b08ab3",
    "deepnote_cell_height": 483.796875,
    "deepnote_cell_type": "code",
    "deepnote_to_be_reexecuted": false,
    "execution_millis": 223,
    "execution_start": 1656240560347,
    "pycharm": {
     "name": "#%%\n"
    },
    "source_hash": "564f0f90"
   },
   "outputs": [
    {
     "data": {
      "text/plain": "   MSZoning_RH  Alley_Pave  LotShape_IR2  LotShape_IR3  LotShape_Reg  \\\n0            0           0             0             0             1   \n1            0           0             0             0             1   \n2            0           0             0             0             0   \n3            0           0             0             0             0   \n4            0           0             0             0             0   \n\n   LandContour_HLS  LandContour_Low  LotConfig_CulDSac  LotConfig_FR2  \\\n0                0                0                  0              0   \n1                0                0                  0              1   \n2                0                0                  0              0   \n3                0                0                  0              0   \n4                0                0                  0              1   \n\n   LotConfig_FR3  ...  BsmtFullBath  BsmtHalfBath  WoodDeckSF  OpenPorchSF  \\\n0              0  ...             1             0           0           61   \n1              0  ...             0             1         298            0   \n2              0  ...             1             0           0           42   \n3              0  ...             1             0           0           35   \n4              0  ...             1             0         192           84   \n\n   EnclosedPorch  3SsnPorch  ScreenPorch  PoolArea  MiscVal  SalePrice  \n0              0          0            0         0        0     208500  \n1              0          0            0         0        0     181500  \n2              0          0            0         0        0     223500  \n3            272          0            0         0        0     140000  \n4              0          0            0         0        0     250000  \n\n[5 rows x 97 columns]",
      "text/html": "<div>\n<style scoped>\n    .dataframe tbody tr th:only-of-type {\n        vertical-align: middle;\n    }\n\n    .dataframe tbody tr th {\n        vertical-align: top;\n    }\n\n    .dataframe thead th {\n        text-align: right;\n    }\n</style>\n<table border=\"1\" class=\"dataframe\">\n  <thead>\n    <tr style=\"text-align: right;\">\n      <th></th>\n      <th>MSZoning_RH</th>\n      <th>Alley_Pave</th>\n      <th>LotShape_IR2</th>\n      <th>LotShape_IR3</th>\n      <th>LotShape_Reg</th>\n      <th>LandContour_HLS</th>\n      <th>LandContour_Low</th>\n      <th>LotConfig_CulDSac</th>\n      <th>LotConfig_FR2</th>\n      <th>LotConfig_FR3</th>\n      <th>...</th>\n      <th>BsmtFullBath</th>\n      <th>BsmtHalfBath</th>\n      <th>WoodDeckSF</th>\n      <th>OpenPorchSF</th>\n      <th>EnclosedPorch</th>\n      <th>3SsnPorch</th>\n      <th>ScreenPorch</th>\n      <th>PoolArea</th>\n      <th>MiscVal</th>\n      <th>SalePrice</th>\n    </tr>\n  </thead>\n  <tbody>\n    <tr>\n      <th>0</th>\n      <td>0</td>\n      <td>0</td>\n      <td>0</td>\n      <td>0</td>\n      <td>1</td>\n      <td>0</td>\n      <td>0</td>\n      <td>0</td>\n      <td>0</td>\n      <td>0</td>\n      <td>...</td>\n      <td>1</td>\n      <td>0</td>\n      <td>0</td>\n      <td>61</td>\n      <td>0</td>\n      <td>0</td>\n      <td>0</td>\n      <td>0</td>\n      <td>0</td>\n      <td>208500</td>\n    </tr>\n    <tr>\n      <th>1</th>\n      <td>0</td>\n      <td>0</td>\n      <td>0</td>\n      <td>0</td>\n      <td>1</td>\n      <td>0</td>\n      <td>0</td>\n      <td>0</td>\n      <td>1</td>\n      <td>0</td>\n      <td>...</td>\n      <td>0</td>\n      <td>1</td>\n      <td>298</td>\n      <td>0</td>\n      <td>0</td>\n      <td>0</td>\n      <td>0</td>\n      <td>0</td>\n      <td>0</td>\n      <td>181500</td>\n    </tr>\n    <tr>\n      <th>2</th>\n      <td>0</td>\n      <td>0</td>\n      <td>0</td>\n      <td>0</td>\n      <td>0</td>\n      <td>0</td>\n      <td>0</td>\n      <td>0</td>\n      <td>0</td>\n      <td>0</td>\n      <td>...</td>\n      <td>1</td>\n      <td>0</td>\n      <td>0</td>\n      <td>42</td>\n      <td>0</td>\n      <td>0</td>\n      <td>0</td>\n      <td>0</td>\n      <td>0</td>\n      <td>223500</td>\n    </tr>\n    <tr>\n      <th>3</th>\n      <td>0</td>\n      <td>0</td>\n      <td>0</td>\n      <td>0</td>\n      <td>0</td>\n      <td>0</td>\n      <td>0</td>\n      <td>0</td>\n      <td>0</td>\n      <td>0</td>\n      <td>...</td>\n      <td>1</td>\n      <td>0</td>\n      <td>0</td>\n      <td>35</td>\n      <td>272</td>\n      <td>0</td>\n      <td>0</td>\n      <td>0</td>\n      <td>0</td>\n      <td>140000</td>\n    </tr>\n    <tr>\n      <th>4</th>\n      <td>0</td>\n      <td>0</td>\n      <td>0</td>\n      <td>0</td>\n      <td>0</td>\n      <td>0</td>\n      <td>0</td>\n      <td>0</td>\n      <td>1</td>\n      <td>0</td>\n      <td>...</td>\n      <td>1</td>\n      <td>0</td>\n      <td>192</td>\n      <td>84</td>\n      <td>0</td>\n      <td>0</td>\n      <td>0</td>\n      <td>0</td>\n      <td>0</td>\n      <td>250000</td>\n    </tr>\n  </tbody>\n</table>\n<p>5 rows × 97 columns</p>\n</div>"
     },
     "execution_count": 29,
     "metadata": {},
     "output_type": "execute_result"
    }
   ],
   "source": [
    "# Membuang data dengan kolom vif yang lebih besar dari 5\n",
    "data_linear = data.drop(highcor_col,axis=1)\n",
    "\n",
    "# Menampilkan 5 data pertama\n",
    "data_linear.head()"
   ]
  },
  {
   "cell_type": "markdown",
   "id": "b352ce5c",
   "metadata": {
    "cell_id": "9b59b420ac214c28bb9d51aa992942b4",
    "deepnote_cell_height": 70,
    "deepnote_cell_type": "markdown",
    "owner_user_id": "4cb54611-a6e0-4450-9441-84c9a3b2a297",
    "pycharm": {
     "name": "#%% md\n"
    },
    "tags": []
   },
   "source": [
    "## 3. Pemodelan"
   ]
  },
  {
   "cell_type": "code",
   "execution_count": 30,
   "id": "43b345b0",
   "metadata": {
    "cell_id": "8bba57c13f7e43c59d311c1cc8dbd3d1",
    "deepnote_cell_height": 153,
    "deepnote_cell_type": "code",
    "deepnote_to_be_reexecuted": false,
    "execution_millis": 3,
    "execution_start": 1656240560594,
    "pycharm": {
     "name": "#%%\n"
    },
    "source_hash": "39d7853c",
    "tags": []
   },
   "outputs": [],
   "source": [
    "# Membuat fungsi untuk menunjukan rata-rata dan simpangan baku dari skor validasi silang\n",
    "def display_scores(scores):\n",
    "    print(\"Scores:\", scores)\n",
    "    print(\"Mean:\", scores.mean())\n",
    "    print(\"Standard deviation:\", scores.std())"
   ]
  },
  {
   "cell_type": "markdown",
   "id": "fe868dee",
   "metadata": {
    "cell_id": "d1dfaf7458f2447ab29b136aa1a84b7c",
    "deepnote_cell_height": 145.1875,
    "deepnote_cell_type": "markdown",
    "pycharm": {
     "name": "#%% md\n"
    },
    "tags": []
   },
   "source": [
    "### 3.1. Regresi Linear\n",
    "\n",
    "Sebelum memulai regresi linear, data yang digunakan berasal dari data yang sudah tidak memiliki masalah multikolinearitas antar fitur yang telah dipilah di bab sebelumnya. Pertama-tama data akan dibagikan menjadi data *training* dan data *testing*. Jumlah data *testing* adalah $30\\%$ dari data total."
   ]
  },
  {
   "cell_type": "code",
   "execution_count": 31,
   "id": "11c97fc4",
   "metadata": {
    "cell_id": "00030-10bdea0e-adc6-4cec-ab3b-b3bb6bc1f812",
    "deepnote_cell_height": 135,
    "deepnote_cell_type": "code",
    "deepnote_to_be_reexecuted": false,
    "execution_millis": 4,
    "execution_start": 1656240560603,
    "pycharm": {
     "name": "#%%\n"
    },
    "source_hash": "9534649a"
   },
   "outputs": [],
   "source": [
    "# Membagi data menjadi training dan testing set\n",
    "X_train, X_test, y_train, y_test = train_test_split(data_linear.drop(columns='SalePrice'), \n",
    "                                                    data_linear['SalePrice'], \n",
    "                                                    test_size=0.3, random_state=101)"
   ]
  },
  {
   "cell_type": "markdown",
   "id": "d32eee2e",
   "metadata": {
    "cell_id": "269ed0b99b3a40d8835077e24e56b6fb",
    "deepnote_cell_height": 97.1875,
    "deepnote_cell_type": "markdown",
    "pycharm": {
     "name": "#%% md\n"
    },
    "tags": []
   },
   "source": [
    "Pembagian data *training* dan *testing* dilanjutkan dengan pengskalaan data. Pengskalaan data dilakukan agar model tidak terlalu sensitif terhadap perubahan fitur input. Metode pengskalaan yang digunakan adalah metode *standard scaling* dengan menggunakan nilai Z-skor untuk masing-masing fitur."
   ]
  },
  {
   "cell_type": "code",
   "execution_count": 32,
   "id": "466545fa",
   "metadata": {
    "cell_id": "00031-71ae5f1f-ef48-4266-885b-4228a2beb5dc",
    "deepnote_cell_height": 171,
    "deepnote_cell_type": "code",
    "deepnote_to_be_reexecuted": false,
    "execution_millis": 11,
    "execution_start": 1656240560614,
    "pycharm": {
     "name": "#%%\n"
    },
    "source_hash": "6e465d15"
   },
   "outputs": [],
   "source": [
    "# Melakukan fitting standard scaler ke data training\n",
    "scaler_linear = StandardScaler().fit(X_train)\n",
    "\n",
    "# Melakukan transformasi data training dan testing\n",
    "X_train = pd.DataFrame(scaler_linear.transform(X_train), columns = X_train.columns, index=X_train.index)\n",
    "X_test = pd.DataFrame(scaler_linear.transform(X_test), columns = X_test.columns, index=X_test.index)"
   ]
  },
  {
   "cell_type": "markdown",
   "id": "eca4f51c",
   "metadata": {
    "cell_id": "1e9011e730df4205ab3a706d49a8a81f",
    "deepnote_cell_height": 75.125,
    "deepnote_cell_type": "markdown",
    "pycharm": {
     "name": "#%% md\n"
    },
    "tags": []
   },
   "source": [
    "Pemodelan pertama yang dilakukan adalah regresi linear. Setelah melakukan fitting data *training*, kelompok melihat performa model dengan membandingkan koefisien determinasi atau nilai $R^2$ dari model."
   ]
  },
  {
   "cell_type": "code",
   "execution_count": 33,
   "id": "c5b59fcf",
   "metadata": {
    "cell_id": "00033-4c86a928-1675-4785-b48e-87665dd3f59d",
    "deepnote_cell_height": 222,
    "deepnote_cell_type": "code",
    "deepnote_to_be_reexecuted": false,
    "execution_millis": 100,
    "execution_start": 1656240560628,
    "pycharm": {
     "name": "#%%\n"
    },
    "source_hash": "8697f7cb"
   },
   "outputs": [
    {
     "name": "stdout",
     "output_type": "stream",
     "text": [
      "Linear Regression Train Score is :  0.631597389039515\n",
      "Linear Regression Test Score is :  -3.199331791653829e+23\n"
     ]
    }
   ],
   "source": [
    "# Membuat dan memfitting data training ke model regresi linear\n",
    "LR = LinearRegression().fit(X_train, y_train)\n",
    "\n",
    "# Membandingkan performa R-squared dari model\n",
    "print('Linear Regression Train Score is : ' , LR.score(X_train, y_train))\n",
    "print('Linear Regression Test Score is : ' , LR.score(X_test, y_test))"
   ]
  },
  {
   "cell_type": "markdown",
   "id": "ec979ffd",
   "metadata": {
    "cell_id": "cdcf052ae41548de8c9484c02b3c2707",
    "deepnote_cell_height": 75.125,
    "deepnote_cell_type": "markdown",
    "pycharm": {
     "name": "#%% md\n"
    },
    "tags": []
   },
   "source": [
    "Dapat dilihat dari hasil di atas, ada perbedaan signifikan dalam segi $R^2$ dimana model dapat menggambarkan data *training* dengan baik namun gagal dalam menggambarkan data *testing*. Kami menduga hal ini terjadi karena terdapat fitur yang tidak signifikan."
   ]
  },
  {
   "cell_type": "code",
   "execution_count": 34,
   "id": "c10261a1",
   "metadata": {
    "cell_id": "00034-a2a7fe4f-d02b-43f3-a0cf-8ef485183e27",
    "deepnote_cell_height": 816,
    "deepnote_cell_type": "code",
    "deepnote_output_heights": [
     611
    ],
    "deepnote_to_be_reexecuted": false,
    "execution_millis": 255,
    "execution_start": 1656240560796,
    "pycharm": {
     "name": "#%%\n"
    },
    "source_hash": "d0b347f6"
   },
   "outputs": [
    {
     "data": {
      "text/plain": "<class 'statsmodels.iolib.summary.Summary'>\n\"\"\"\n                            OLS Regression Results                            \n==============================================================================\nDep. Variable:              SalePrice   R-squared:                       0.633\nModel:                            OLS   Adj. R-squared:                  0.592\nMethod:                 Least Squares   F-statistic:                     15.58\nDate:                Sun, 03 Jul 2022   Prob (F-statistic):          1.67e-130\nTime:                        11:09:18   Log-Likelihood:                -11415.\nNo. Observations:                 945   AIC:                         2.302e+04\nDf Residuals:                     850   BIC:                         2.348e+04\nDf Model:                          94                                         \nCovariance Type:            nonrobust                                         \n=========================================================================================\n                            coef    std err          t      P>|t|      [0.025      0.975]\n-----------------------------------------------------------------------------------------\nconst                  1.817e+05   1462.091    124.265      0.000    1.79e+05    1.85e+05\nMSZoning_RH            -270.0791   1569.698     -0.172      0.863   -3351.017    2810.858\nAlley_Pave            -5162.4555   1558.269     -3.313      0.001   -8220.961   -2103.950\nLotShape_IR2           1856.1562   1609.784      1.153      0.249   -1303.461    5015.773\nLotShape_IR3           2009.5829   1609.084      1.249      0.212   -1148.661    5167.827\nLotShape_Reg          -4209.9238   1718.791     -2.449      0.015   -7583.496    -836.352\nLandContour_HLS        4510.6309   1710.986      2.636      0.009    1152.378    7868.884\nLandContour_Low          46.1291   1879.753      0.025      0.980   -3643.373    3735.632\nLotConfig_CulDSac      -498.7847   1647.083     -0.303      0.762   -3731.612    2734.043\nLotConfig_FR2         -4458.2734   1558.369     -2.861      0.004   -7516.976   -1399.571\nLotConfig_FR3         -1149.2966   1471.997     -0.781      0.435   -4038.471    1739.878\nLandSlope_Mod           580.7041   1903.565      0.305      0.760   -3155.535    4316.943\nLandSlope_Sev         -1340.5096   1775.805     -0.755      0.451   -4825.986    2144.967\nNeighborhood_Blueste   -402.7148   1564.719     -0.257      0.797   -3473.882    2668.452\nNeighborhood_BrDale   -7040.0509   1559.596     -4.514      0.000   -1.01e+04   -3978.939\nNeighborhood_ClearCr   1562.5075   1693.194      0.923      0.356   -1760.824    4885.839\nNeighborhood_MeadowV  -4919.7753   1514.213     -3.249      0.001   -7891.811   -1947.740\nNeighborhood_NPkVill   1172.7280   1504.541      0.779      0.436   -1780.323    4125.779\nNeighborhood_SWISU    -1780.9502   1604.560     -1.110      0.267   -4930.315    1368.415\nNeighborhood_StoneBr   6202.6224   1532.998      4.046      0.000    3193.718    9211.527\nNeighborhood_Timber    1371.3971   1570.901      0.873      0.383   -1711.903    4454.697\nNeighborhood_Veenker   3962.9606   1572.301      2.520      0.012     876.914    7049.008\nCondition1_Feedr      -4528.6457   1557.957     -2.907      0.004   -7586.539   -1470.752\nCondition1_PosA         836.6356   1522.114      0.550      0.583   -2150.908    3824.179\nCondition1_PosN         723.4056   1567.173      0.462      0.644   -2352.578    3799.389\nCondition1_RRAe       -1889.5388   1669.331     -1.132      0.258   -5166.032    1386.954\nCondition1_RRAn       -2493.7075   1531.988     -1.628      0.104   -5500.631     513.216\nCondition1_RRNe       -2251.1682   1512.640     -1.488      0.137   -5220.115     717.778\nCondition1_RRNn        1409.5942   1571.272      0.897      0.370   -1674.434    4493.622\nHouseStyle_1.5Unf     -3475.1197   1683.819     -2.064      0.039   -6780.051    -170.189\nHouseStyle_2.5Fin      4204.1739   1543.708      2.723      0.007    1174.248    7234.100\nHouseStyle_2.5Unf      2624.0423   1592.856      1.647      0.100    -502.349    5750.434\nHouseStyle_SFoyer     -4376.9239   1591.787     -2.750      0.006   -7501.218   -1252.630\nHouseStyle_SLvl       -5475.7685   1602.580     -3.417      0.001   -8621.247   -2330.290\nRoofStyle_Gambrel      5245.7102   1600.675      3.277      0.001    2103.971    8387.449\nRoofStyle_Mansard      3168.0611   1702.348      1.861      0.063    -173.238    6509.360\nRoofStyle_Shed         1207.4795   1667.138      0.724      0.469   -2064.710    4479.669\nExterior1st_BrkComm   -2129.7449   1612.131     -1.321      0.187   -5293.969    1034.479\nExterior1st_ImStucc    2011.6460   1661.635      1.211      0.226   -1249.742    5273.034\nExterior1st_Stone       555.0694   1820.703      0.305      0.761   -3018.532    4128.671\nExterior2nd_AsphShn   -1265.2320   1736.020     -0.729      0.466   -4672.620    2142.156\nExterior2nd_ImStucc     493.2756   1743.770      0.283      0.777   -2929.324    3915.876\nExterior2nd_Other     -2.581e-13   1.76e-12     -0.147      0.883   -3.71e-12    3.19e-12\nExterior2nd_Stone      1101.8378   1819.002      0.606      0.545   -2468.424    4672.100\nExterQual_Fa          -2265.5971   1604.110     -1.412      0.158   -5414.078     882.884\nFoundation_Slab       -1649.4463   1644.548     -1.003      0.316   -4877.297    1578.404\nFoundation_Stone       1619.4191   1703.011      0.951      0.342   -1723.180    4962.018\nFoundation_Wood       -3222.3539   1552.910     -2.075      0.038   -6270.341    -174.367\nBsmtQual_Fa           -2497.0195   1686.953     -1.480      0.139   -5808.101     814.062\nBsmtCond_Gd            2608.8004   1520.562      1.716      0.087    -375.696    5593.297\nBsmtExposure_Gd        9057.8643   1774.190      5.105      0.000    5575.558    1.25e+04\nBsmtExposure_Mn        3073.4597   1540.893      1.995      0.046      49.059    6097.861\nBsmtFinType1_BLQ      -2407.4009   1717.371     -1.402      0.161   -5778.186     963.384\nBsmtFinType1_GLQ       1.091e+04   1998.494      5.457      0.000    6983.998    1.48e+04\nBsmtFinType1_LwQ      -1459.6051   1629.717     -0.896      0.371   -4658.346    1739.136\nBsmtFinType1_Rec      -3383.5608   1647.504     -2.054      0.040   -6617.214    -149.908\nBsmtFinType2_BLQ      -3249.4957   1567.177     -2.073      0.038   -6325.485    -173.506\nBsmtFinType2_GLQ       2536.5232   1755.974      1.445      0.149    -910.031    5983.077\nBsmtFinType2_LwQ      -2180.1731   1580.589     -1.379      0.168   -5282.488     922.142\nHeatingQC_Fa          -7481.3166   1660.633     -4.505      0.000   -1.07e+04   -4221.894\nHeatingQC_Gd          -9325.1993   1681.104     -5.547      0.000   -1.26e+04   -6025.597\nHeatingQC_Po            811.6898   1802.129      0.450      0.653   -2725.454    4348.834\nHeatingQC_TA          -1.278e+04   1893.367     -6.750      0.000   -1.65e+04   -9063.203\nElectrical_FuseF      -3749.1925   1727.341     -2.170      0.030   -7139.547    -358.838\nElectrical_FuseP      -2601.6553   1874.524     -1.388      0.166   -6280.893    1077.583\nKitchenQual_Fa        -1153.0944   1601.848     -0.720      0.472   -4297.135    1990.946\nFunctional_Maj2       -2682.8564   1754.042     -1.530      0.127   -6125.617     759.904\nFunctional_Mod         -372.6547   1735.424     -0.215      0.830   -3778.874    3033.564\nFunctional_Sev        -2.228e-12   2.73e-12     -0.815      0.415   -7.59e-12    3.14e-12\nFireplaceQu_Fa        -3623.8708   1557.420     -2.327      0.020   -6680.710    -567.032\nFireplaceQu_Po        -2609.2580   1536.005     -1.699      0.090   -5624.066     405.550\nGarageType_CarPort    -2258.7306   1568.138     -1.440      0.150   -5336.608     819.147\nGarageFinish_RFn        816.5565   1586.757      0.515      0.607   -2297.865    3930.978\nGarageQual_Po          1543.5120   1942.835      0.794      0.427   -2269.804    5356.828\nPavedDrive_P          -1642.1879   1594.521     -1.030      0.303   -4771.848    1487.472\nFence_GdWo            -2373.6057   1572.208     -1.510      0.131   -5459.471     712.259\nFence_MnPrv           -3077.7588   1588.288     -1.938      0.053   -6195.185      39.667\nFence_MnWw            -1629.2204   1534.258     -1.062      0.289   -4640.599    1382.158\nSaleType_CWD           2555.3053   1517.895      1.683      0.093    -423.956    5534.567\nSaleType_Con            -95.7184   1480.050     -0.065      0.948   -3000.699    2809.262\nSaleType_ConLD        -1170.2979   1532.245     -0.764      0.445   -4177.725    1837.129\nSaleType_ConLI          953.3152   1478.740      0.645      0.519   -1949.094    3855.725\nSaleType_ConLw        -2345.2899   1525.542     -1.537      0.125   -5339.561     648.981\nSaleType_Oth           -550.8367   1470.215     -0.375      0.708   -3436.513    2334.840\nSaleCondition_AdjLand  1602.8873   1592.478      1.007      0.314   -1522.764    4728.538\nSaleCondition_Alloca   1247.1699   1623.860      0.768      0.443   -1940.076    4434.416\nSaleCondition_Family  -2428.8562   1550.269     -1.567      0.118   -5471.660     613.948\nMasVnrArea             1.857e+04   1643.061     11.303      0.000    1.53e+04    2.18e+04\nBsmtFullBath           1396.4582   1902.307      0.734      0.463   -2337.311    5130.227\nBsmtHalfBath          -2451.6332   1591.955     -1.540      0.124   -5576.258     672.991\nWoodDeckSF              1.12e+04   1661.191      6.740      0.000    7935.093    1.45e+04\nOpenPorchSF            1.436e+04   1623.453      8.845      0.000    1.12e+04    1.75e+04\nEnclosedPorch          1186.0962   1695.403      0.700      0.484   -2141.571    4513.763\n3SsnPorch              4700.5933   1607.172      2.925      0.004    1546.102    7855.084\nScreenPorch            4401.0958   1565.943      2.811      0.005    1327.526    7474.665\nPoolArea               4000.7664   1613.795      2.479      0.013     833.277    7168.256\nMiscVal                -485.1380   1602.639     -0.303      0.762   -3630.732    2660.456\n==============================================================================\nOmnibus:                      146.536   Durbin-Watson:                   1.970\nProb(Omnibus):                  0.000   Jarque-Bera (JB):              337.027\nSkew:                           0.856   Prob(JB):                     6.54e-74\nKurtosis:                       5.372   Cond. No.                     3.24e+15\n==============================================================================\n\nNotes:\n[1] Standard Errors assume that the covariance matrix of the errors is correctly specified.\n[2] The smallest eigenvalue is 2.68e-28. This might indicate that there are\nstrong multicollinearity problems or that the design matrix is singular.\n\"\"\"",
      "text/html": "<table class=\"simpletable\">\n<caption>OLS Regression Results</caption>\n<tr>\n  <th>Dep. Variable:</th>        <td>SalePrice</td>    <th>  R-squared:         </th> <td>   0.633</td> \n</tr>\n<tr>\n  <th>Model:</th>                   <td>OLS</td>       <th>  Adj. R-squared:    </th> <td>   0.592</td> \n</tr>\n<tr>\n  <th>Method:</th>             <td>Least Squares</td>  <th>  F-statistic:       </th> <td>   15.58</td> \n</tr>\n<tr>\n  <th>Date:</th>             <td>Sun, 03 Jul 2022</td> <th>  Prob (F-statistic):</th> <td>1.67e-130</td>\n</tr>\n<tr>\n  <th>Time:</th>                 <td>11:09:18</td>     <th>  Log-Likelihood:    </th> <td> -11415.</td> \n</tr>\n<tr>\n  <th>No. Observations:</th>      <td>   945</td>      <th>  AIC:               </th> <td>2.302e+04</td>\n</tr>\n<tr>\n  <th>Df Residuals:</th>          <td>   850</td>      <th>  BIC:               </th> <td>2.348e+04</td>\n</tr>\n<tr>\n  <th>Df Model:</th>              <td>    94</td>      <th>                     </th>     <td> </td>    \n</tr>\n<tr>\n  <th>Covariance Type:</th>      <td>nonrobust</td>    <th>                     </th>     <td> </td>    \n</tr>\n</table>\n<table class=\"simpletable\">\n<tr>\n            <td></td>               <th>coef</th>     <th>std err</th>      <th>t</th>      <th>P>|t|</th>  <th>[0.025</th>    <th>0.975]</th>  \n</tr>\n<tr>\n  <th>const</th>                 <td> 1.817e+05</td> <td> 1462.091</td> <td>  124.265</td> <td> 0.000</td> <td> 1.79e+05</td> <td> 1.85e+05</td>\n</tr>\n<tr>\n  <th>MSZoning_RH</th>           <td> -270.0791</td> <td> 1569.698</td> <td>   -0.172</td> <td> 0.863</td> <td>-3351.017</td> <td> 2810.858</td>\n</tr>\n<tr>\n  <th>Alley_Pave</th>            <td>-5162.4555</td> <td> 1558.269</td> <td>   -3.313</td> <td> 0.001</td> <td>-8220.961</td> <td>-2103.950</td>\n</tr>\n<tr>\n  <th>LotShape_IR2</th>          <td> 1856.1562</td> <td> 1609.784</td> <td>    1.153</td> <td> 0.249</td> <td>-1303.461</td> <td> 5015.773</td>\n</tr>\n<tr>\n  <th>LotShape_IR3</th>          <td> 2009.5829</td> <td> 1609.084</td> <td>    1.249</td> <td> 0.212</td> <td>-1148.661</td> <td> 5167.827</td>\n</tr>\n<tr>\n  <th>LotShape_Reg</th>          <td>-4209.9238</td> <td> 1718.791</td> <td>   -2.449</td> <td> 0.015</td> <td>-7583.496</td> <td> -836.352</td>\n</tr>\n<tr>\n  <th>LandContour_HLS</th>       <td> 4510.6309</td> <td> 1710.986</td> <td>    2.636</td> <td> 0.009</td> <td> 1152.378</td> <td> 7868.884</td>\n</tr>\n<tr>\n  <th>LandContour_Low</th>       <td>   46.1291</td> <td> 1879.753</td> <td>    0.025</td> <td> 0.980</td> <td>-3643.373</td> <td> 3735.632</td>\n</tr>\n<tr>\n  <th>LotConfig_CulDSac</th>     <td> -498.7847</td> <td> 1647.083</td> <td>   -0.303</td> <td> 0.762</td> <td>-3731.612</td> <td> 2734.043</td>\n</tr>\n<tr>\n  <th>LotConfig_FR2</th>         <td>-4458.2734</td> <td> 1558.369</td> <td>   -2.861</td> <td> 0.004</td> <td>-7516.976</td> <td>-1399.571</td>\n</tr>\n<tr>\n  <th>LotConfig_FR3</th>         <td>-1149.2966</td> <td> 1471.997</td> <td>   -0.781</td> <td> 0.435</td> <td>-4038.471</td> <td> 1739.878</td>\n</tr>\n<tr>\n  <th>LandSlope_Mod</th>         <td>  580.7041</td> <td> 1903.565</td> <td>    0.305</td> <td> 0.760</td> <td>-3155.535</td> <td> 4316.943</td>\n</tr>\n<tr>\n  <th>LandSlope_Sev</th>         <td>-1340.5096</td> <td> 1775.805</td> <td>   -0.755</td> <td> 0.451</td> <td>-4825.986</td> <td> 2144.967</td>\n</tr>\n<tr>\n  <th>Neighborhood_Blueste</th>  <td> -402.7148</td> <td> 1564.719</td> <td>   -0.257</td> <td> 0.797</td> <td>-3473.882</td> <td> 2668.452</td>\n</tr>\n<tr>\n  <th>Neighborhood_BrDale</th>   <td>-7040.0509</td> <td> 1559.596</td> <td>   -4.514</td> <td> 0.000</td> <td>-1.01e+04</td> <td>-3978.939</td>\n</tr>\n<tr>\n  <th>Neighborhood_ClearCr</th>  <td> 1562.5075</td> <td> 1693.194</td> <td>    0.923</td> <td> 0.356</td> <td>-1760.824</td> <td> 4885.839</td>\n</tr>\n<tr>\n  <th>Neighborhood_MeadowV</th>  <td>-4919.7753</td> <td> 1514.213</td> <td>   -3.249</td> <td> 0.001</td> <td>-7891.811</td> <td>-1947.740</td>\n</tr>\n<tr>\n  <th>Neighborhood_NPkVill</th>  <td> 1172.7280</td> <td> 1504.541</td> <td>    0.779</td> <td> 0.436</td> <td>-1780.323</td> <td> 4125.779</td>\n</tr>\n<tr>\n  <th>Neighborhood_SWISU</th>    <td>-1780.9502</td> <td> 1604.560</td> <td>   -1.110</td> <td> 0.267</td> <td>-4930.315</td> <td> 1368.415</td>\n</tr>\n<tr>\n  <th>Neighborhood_StoneBr</th>  <td> 6202.6224</td> <td> 1532.998</td> <td>    4.046</td> <td> 0.000</td> <td> 3193.718</td> <td> 9211.527</td>\n</tr>\n<tr>\n  <th>Neighborhood_Timber</th>   <td> 1371.3971</td> <td> 1570.901</td> <td>    0.873</td> <td> 0.383</td> <td>-1711.903</td> <td> 4454.697</td>\n</tr>\n<tr>\n  <th>Neighborhood_Veenker</th>  <td> 3962.9606</td> <td> 1572.301</td> <td>    2.520</td> <td> 0.012</td> <td>  876.914</td> <td> 7049.008</td>\n</tr>\n<tr>\n  <th>Condition1_Feedr</th>      <td>-4528.6457</td> <td> 1557.957</td> <td>   -2.907</td> <td> 0.004</td> <td>-7586.539</td> <td>-1470.752</td>\n</tr>\n<tr>\n  <th>Condition1_PosA</th>       <td>  836.6356</td> <td> 1522.114</td> <td>    0.550</td> <td> 0.583</td> <td>-2150.908</td> <td> 3824.179</td>\n</tr>\n<tr>\n  <th>Condition1_PosN</th>       <td>  723.4056</td> <td> 1567.173</td> <td>    0.462</td> <td> 0.644</td> <td>-2352.578</td> <td> 3799.389</td>\n</tr>\n<tr>\n  <th>Condition1_RRAe</th>       <td>-1889.5388</td> <td> 1669.331</td> <td>   -1.132</td> <td> 0.258</td> <td>-5166.032</td> <td> 1386.954</td>\n</tr>\n<tr>\n  <th>Condition1_RRAn</th>       <td>-2493.7075</td> <td> 1531.988</td> <td>   -1.628</td> <td> 0.104</td> <td>-5500.631</td> <td>  513.216</td>\n</tr>\n<tr>\n  <th>Condition1_RRNe</th>       <td>-2251.1682</td> <td> 1512.640</td> <td>   -1.488</td> <td> 0.137</td> <td>-5220.115</td> <td>  717.778</td>\n</tr>\n<tr>\n  <th>Condition1_RRNn</th>       <td> 1409.5942</td> <td> 1571.272</td> <td>    0.897</td> <td> 0.370</td> <td>-1674.434</td> <td> 4493.622</td>\n</tr>\n<tr>\n  <th>HouseStyle_1.5Unf</th>     <td>-3475.1197</td> <td> 1683.819</td> <td>   -2.064</td> <td> 0.039</td> <td>-6780.051</td> <td> -170.189</td>\n</tr>\n<tr>\n  <th>HouseStyle_2.5Fin</th>     <td> 4204.1739</td> <td> 1543.708</td> <td>    2.723</td> <td> 0.007</td> <td> 1174.248</td> <td> 7234.100</td>\n</tr>\n<tr>\n  <th>HouseStyle_2.5Unf</th>     <td> 2624.0423</td> <td> 1592.856</td> <td>    1.647</td> <td> 0.100</td> <td> -502.349</td> <td> 5750.434</td>\n</tr>\n<tr>\n  <th>HouseStyle_SFoyer</th>     <td>-4376.9239</td> <td> 1591.787</td> <td>   -2.750</td> <td> 0.006</td> <td>-7501.218</td> <td>-1252.630</td>\n</tr>\n<tr>\n  <th>HouseStyle_SLvl</th>       <td>-5475.7685</td> <td> 1602.580</td> <td>   -3.417</td> <td> 0.001</td> <td>-8621.247</td> <td>-2330.290</td>\n</tr>\n<tr>\n  <th>RoofStyle_Gambrel</th>     <td> 5245.7102</td> <td> 1600.675</td> <td>    3.277</td> <td> 0.001</td> <td> 2103.971</td> <td> 8387.449</td>\n</tr>\n<tr>\n  <th>RoofStyle_Mansard</th>     <td> 3168.0611</td> <td> 1702.348</td> <td>    1.861</td> <td> 0.063</td> <td> -173.238</td> <td> 6509.360</td>\n</tr>\n<tr>\n  <th>RoofStyle_Shed</th>        <td> 1207.4795</td> <td> 1667.138</td> <td>    0.724</td> <td> 0.469</td> <td>-2064.710</td> <td> 4479.669</td>\n</tr>\n<tr>\n  <th>Exterior1st_BrkComm</th>   <td>-2129.7449</td> <td> 1612.131</td> <td>   -1.321</td> <td> 0.187</td> <td>-5293.969</td> <td> 1034.479</td>\n</tr>\n<tr>\n  <th>Exterior1st_ImStucc</th>   <td> 2011.6460</td> <td> 1661.635</td> <td>    1.211</td> <td> 0.226</td> <td>-1249.742</td> <td> 5273.034</td>\n</tr>\n<tr>\n  <th>Exterior1st_Stone</th>     <td>  555.0694</td> <td> 1820.703</td> <td>    0.305</td> <td> 0.761</td> <td>-3018.532</td> <td> 4128.671</td>\n</tr>\n<tr>\n  <th>Exterior2nd_AsphShn</th>   <td>-1265.2320</td> <td> 1736.020</td> <td>   -0.729</td> <td> 0.466</td> <td>-4672.620</td> <td> 2142.156</td>\n</tr>\n<tr>\n  <th>Exterior2nd_ImStucc</th>   <td>  493.2756</td> <td> 1743.770</td> <td>    0.283</td> <td> 0.777</td> <td>-2929.324</td> <td> 3915.876</td>\n</tr>\n<tr>\n  <th>Exterior2nd_Other</th>     <td>-2.581e-13</td> <td> 1.76e-12</td> <td>   -0.147</td> <td> 0.883</td> <td>-3.71e-12</td> <td> 3.19e-12</td>\n</tr>\n<tr>\n  <th>Exterior2nd_Stone</th>     <td> 1101.8378</td> <td> 1819.002</td> <td>    0.606</td> <td> 0.545</td> <td>-2468.424</td> <td> 4672.100</td>\n</tr>\n<tr>\n  <th>ExterQual_Fa</th>          <td>-2265.5971</td> <td> 1604.110</td> <td>   -1.412</td> <td> 0.158</td> <td>-5414.078</td> <td>  882.884</td>\n</tr>\n<tr>\n  <th>Foundation_Slab</th>       <td>-1649.4463</td> <td> 1644.548</td> <td>   -1.003</td> <td> 0.316</td> <td>-4877.297</td> <td> 1578.404</td>\n</tr>\n<tr>\n  <th>Foundation_Stone</th>      <td> 1619.4191</td> <td> 1703.011</td> <td>    0.951</td> <td> 0.342</td> <td>-1723.180</td> <td> 4962.018</td>\n</tr>\n<tr>\n  <th>Foundation_Wood</th>       <td>-3222.3539</td> <td> 1552.910</td> <td>   -2.075</td> <td> 0.038</td> <td>-6270.341</td> <td> -174.367</td>\n</tr>\n<tr>\n  <th>BsmtQual_Fa</th>           <td>-2497.0195</td> <td> 1686.953</td> <td>   -1.480</td> <td> 0.139</td> <td>-5808.101</td> <td>  814.062</td>\n</tr>\n<tr>\n  <th>BsmtCond_Gd</th>           <td> 2608.8004</td> <td> 1520.562</td> <td>    1.716</td> <td> 0.087</td> <td> -375.696</td> <td> 5593.297</td>\n</tr>\n<tr>\n  <th>BsmtExposure_Gd</th>       <td> 9057.8643</td> <td> 1774.190</td> <td>    5.105</td> <td> 0.000</td> <td> 5575.558</td> <td> 1.25e+04</td>\n</tr>\n<tr>\n  <th>BsmtExposure_Mn</th>       <td> 3073.4597</td> <td> 1540.893</td> <td>    1.995</td> <td> 0.046</td> <td>   49.059</td> <td> 6097.861</td>\n</tr>\n<tr>\n  <th>BsmtFinType1_BLQ</th>      <td>-2407.4009</td> <td> 1717.371</td> <td>   -1.402</td> <td> 0.161</td> <td>-5778.186</td> <td>  963.384</td>\n</tr>\n<tr>\n  <th>BsmtFinType1_GLQ</th>      <td> 1.091e+04</td> <td> 1998.494</td> <td>    5.457</td> <td> 0.000</td> <td> 6983.998</td> <td> 1.48e+04</td>\n</tr>\n<tr>\n  <th>BsmtFinType1_LwQ</th>      <td>-1459.6051</td> <td> 1629.717</td> <td>   -0.896</td> <td> 0.371</td> <td>-4658.346</td> <td> 1739.136</td>\n</tr>\n<tr>\n  <th>BsmtFinType1_Rec</th>      <td>-3383.5608</td> <td> 1647.504</td> <td>   -2.054</td> <td> 0.040</td> <td>-6617.214</td> <td> -149.908</td>\n</tr>\n<tr>\n  <th>BsmtFinType2_BLQ</th>      <td>-3249.4957</td> <td> 1567.177</td> <td>   -2.073</td> <td> 0.038</td> <td>-6325.485</td> <td> -173.506</td>\n</tr>\n<tr>\n  <th>BsmtFinType2_GLQ</th>      <td> 2536.5232</td> <td> 1755.974</td> <td>    1.445</td> <td> 0.149</td> <td> -910.031</td> <td> 5983.077</td>\n</tr>\n<tr>\n  <th>BsmtFinType2_LwQ</th>      <td>-2180.1731</td> <td> 1580.589</td> <td>   -1.379</td> <td> 0.168</td> <td>-5282.488</td> <td>  922.142</td>\n</tr>\n<tr>\n  <th>HeatingQC_Fa</th>          <td>-7481.3166</td> <td> 1660.633</td> <td>   -4.505</td> <td> 0.000</td> <td>-1.07e+04</td> <td>-4221.894</td>\n</tr>\n<tr>\n  <th>HeatingQC_Gd</th>          <td>-9325.1993</td> <td> 1681.104</td> <td>   -5.547</td> <td> 0.000</td> <td>-1.26e+04</td> <td>-6025.597</td>\n</tr>\n<tr>\n  <th>HeatingQC_Po</th>          <td>  811.6898</td> <td> 1802.129</td> <td>    0.450</td> <td> 0.653</td> <td>-2725.454</td> <td> 4348.834</td>\n</tr>\n<tr>\n  <th>HeatingQC_TA</th>          <td>-1.278e+04</td> <td> 1893.367</td> <td>   -6.750</td> <td> 0.000</td> <td>-1.65e+04</td> <td>-9063.203</td>\n</tr>\n<tr>\n  <th>Electrical_FuseF</th>      <td>-3749.1925</td> <td> 1727.341</td> <td>   -2.170</td> <td> 0.030</td> <td>-7139.547</td> <td> -358.838</td>\n</tr>\n<tr>\n  <th>Electrical_FuseP</th>      <td>-2601.6553</td> <td> 1874.524</td> <td>   -1.388</td> <td> 0.166</td> <td>-6280.893</td> <td> 1077.583</td>\n</tr>\n<tr>\n  <th>KitchenQual_Fa</th>        <td>-1153.0944</td> <td> 1601.848</td> <td>   -0.720</td> <td> 0.472</td> <td>-4297.135</td> <td> 1990.946</td>\n</tr>\n<tr>\n  <th>Functional_Maj2</th>       <td>-2682.8564</td> <td> 1754.042</td> <td>   -1.530</td> <td> 0.127</td> <td>-6125.617</td> <td>  759.904</td>\n</tr>\n<tr>\n  <th>Functional_Mod</th>        <td> -372.6547</td> <td> 1735.424</td> <td>   -0.215</td> <td> 0.830</td> <td>-3778.874</td> <td> 3033.564</td>\n</tr>\n<tr>\n  <th>Functional_Sev</th>        <td>-2.228e-12</td> <td> 2.73e-12</td> <td>   -0.815</td> <td> 0.415</td> <td>-7.59e-12</td> <td> 3.14e-12</td>\n</tr>\n<tr>\n  <th>FireplaceQu_Fa</th>        <td>-3623.8708</td> <td> 1557.420</td> <td>   -2.327</td> <td> 0.020</td> <td>-6680.710</td> <td> -567.032</td>\n</tr>\n<tr>\n  <th>FireplaceQu_Po</th>        <td>-2609.2580</td> <td> 1536.005</td> <td>   -1.699</td> <td> 0.090</td> <td>-5624.066</td> <td>  405.550</td>\n</tr>\n<tr>\n  <th>GarageType_CarPort</th>    <td>-2258.7306</td> <td> 1568.138</td> <td>   -1.440</td> <td> 0.150</td> <td>-5336.608</td> <td>  819.147</td>\n</tr>\n<tr>\n  <th>GarageFinish_RFn</th>      <td>  816.5565</td> <td> 1586.757</td> <td>    0.515</td> <td> 0.607</td> <td>-2297.865</td> <td> 3930.978</td>\n</tr>\n<tr>\n  <th>GarageQual_Po</th>         <td> 1543.5120</td> <td> 1942.835</td> <td>    0.794</td> <td> 0.427</td> <td>-2269.804</td> <td> 5356.828</td>\n</tr>\n<tr>\n  <th>PavedDrive_P</th>          <td>-1642.1879</td> <td> 1594.521</td> <td>   -1.030</td> <td> 0.303</td> <td>-4771.848</td> <td> 1487.472</td>\n</tr>\n<tr>\n  <th>Fence_GdWo</th>            <td>-2373.6057</td> <td> 1572.208</td> <td>   -1.510</td> <td> 0.131</td> <td>-5459.471</td> <td>  712.259</td>\n</tr>\n<tr>\n  <th>Fence_MnPrv</th>           <td>-3077.7588</td> <td> 1588.288</td> <td>   -1.938</td> <td> 0.053</td> <td>-6195.185</td> <td>   39.667</td>\n</tr>\n<tr>\n  <th>Fence_MnWw</th>            <td>-1629.2204</td> <td> 1534.258</td> <td>   -1.062</td> <td> 0.289</td> <td>-4640.599</td> <td> 1382.158</td>\n</tr>\n<tr>\n  <th>SaleType_CWD</th>          <td> 2555.3053</td> <td> 1517.895</td> <td>    1.683</td> <td> 0.093</td> <td> -423.956</td> <td> 5534.567</td>\n</tr>\n<tr>\n  <th>SaleType_Con</th>          <td>  -95.7184</td> <td> 1480.050</td> <td>   -0.065</td> <td> 0.948</td> <td>-3000.699</td> <td> 2809.262</td>\n</tr>\n<tr>\n  <th>SaleType_ConLD</th>        <td>-1170.2979</td> <td> 1532.245</td> <td>   -0.764</td> <td> 0.445</td> <td>-4177.725</td> <td> 1837.129</td>\n</tr>\n<tr>\n  <th>SaleType_ConLI</th>        <td>  953.3152</td> <td> 1478.740</td> <td>    0.645</td> <td> 0.519</td> <td>-1949.094</td> <td> 3855.725</td>\n</tr>\n<tr>\n  <th>SaleType_ConLw</th>        <td>-2345.2899</td> <td> 1525.542</td> <td>   -1.537</td> <td> 0.125</td> <td>-5339.561</td> <td>  648.981</td>\n</tr>\n<tr>\n  <th>SaleType_Oth</th>          <td> -550.8367</td> <td> 1470.215</td> <td>   -0.375</td> <td> 0.708</td> <td>-3436.513</td> <td> 2334.840</td>\n</tr>\n<tr>\n  <th>SaleCondition_AdjLand</th> <td> 1602.8873</td> <td> 1592.478</td> <td>    1.007</td> <td> 0.314</td> <td>-1522.764</td> <td> 4728.538</td>\n</tr>\n<tr>\n  <th>SaleCondition_Alloca</th>  <td> 1247.1699</td> <td> 1623.860</td> <td>    0.768</td> <td> 0.443</td> <td>-1940.076</td> <td> 4434.416</td>\n</tr>\n<tr>\n  <th>SaleCondition_Family</th>  <td>-2428.8562</td> <td> 1550.269</td> <td>   -1.567</td> <td> 0.118</td> <td>-5471.660</td> <td>  613.948</td>\n</tr>\n<tr>\n  <th>MasVnrArea</th>            <td> 1.857e+04</td> <td> 1643.061</td> <td>   11.303</td> <td> 0.000</td> <td> 1.53e+04</td> <td> 2.18e+04</td>\n</tr>\n<tr>\n  <th>BsmtFullBath</th>          <td> 1396.4582</td> <td> 1902.307</td> <td>    0.734</td> <td> 0.463</td> <td>-2337.311</td> <td> 5130.227</td>\n</tr>\n<tr>\n  <th>BsmtHalfBath</th>          <td>-2451.6332</td> <td> 1591.955</td> <td>   -1.540</td> <td> 0.124</td> <td>-5576.258</td> <td>  672.991</td>\n</tr>\n<tr>\n  <th>WoodDeckSF</th>            <td>  1.12e+04</td> <td> 1661.191</td> <td>    6.740</td> <td> 0.000</td> <td> 7935.093</td> <td> 1.45e+04</td>\n</tr>\n<tr>\n  <th>OpenPorchSF</th>           <td> 1.436e+04</td> <td> 1623.453</td> <td>    8.845</td> <td> 0.000</td> <td> 1.12e+04</td> <td> 1.75e+04</td>\n</tr>\n<tr>\n  <th>EnclosedPorch</th>         <td> 1186.0962</td> <td> 1695.403</td> <td>    0.700</td> <td> 0.484</td> <td>-2141.571</td> <td> 4513.763</td>\n</tr>\n<tr>\n  <th>3SsnPorch</th>             <td> 4700.5933</td> <td> 1607.172</td> <td>    2.925</td> <td> 0.004</td> <td> 1546.102</td> <td> 7855.084</td>\n</tr>\n<tr>\n  <th>ScreenPorch</th>           <td> 4401.0958</td> <td> 1565.943</td> <td>    2.811</td> <td> 0.005</td> <td> 1327.526</td> <td> 7474.665</td>\n</tr>\n<tr>\n  <th>PoolArea</th>              <td> 4000.7664</td> <td> 1613.795</td> <td>    2.479</td> <td> 0.013</td> <td>  833.277</td> <td> 7168.256</td>\n</tr>\n<tr>\n  <th>MiscVal</th>               <td> -485.1380</td> <td> 1602.639</td> <td>   -0.303</td> <td> 0.762</td> <td>-3630.732</td> <td> 2660.456</td>\n</tr>\n</table>\n<table class=\"simpletable\">\n<tr>\n  <th>Omnibus:</th>       <td>146.536</td> <th>  Durbin-Watson:     </th> <td>   1.970</td>\n</tr>\n<tr>\n  <th>Prob(Omnibus):</th> <td> 0.000</td>  <th>  Jarque-Bera (JB):  </th> <td> 337.027</td>\n</tr>\n<tr>\n  <th>Skew:</th>          <td> 0.856</td>  <th>  Prob(JB):          </th> <td>6.54e-74</td>\n</tr>\n<tr>\n  <th>Kurtosis:</th>      <td> 5.372</td>  <th>  Cond. No.          </th> <td>3.24e+15</td>\n</tr>\n</table><br/><br/>Notes:<br/>[1] Standard Errors assume that the covariance matrix of the errors is correctly specified.<br/>[2] The smallest eigenvalue is 2.68e-28. This might indicate that there are<br/>strong multicollinearity problems or that the design matrix is singular."
     },
     "execution_count": 34,
     "metadata": {},
     "output_type": "execute_result"
    }
   ],
   "source": [
    "# Mendefinisikan variabel dependen dan independen\n",
    "X = sm.add_constant(X_train)\n",
    "y = y_train\n",
    "\n",
    "# Menggunakan statsmodels untuk melihat hasil regresi\n",
    "model_lr = sm.OLS(y, X).fit()\n",
    "model_lr.summary()"
   ]
  },
  {
   "cell_type": "markdown",
   "id": "9173b992",
   "metadata": {
    "cell_id": "129f2ecddb414b9d8b95f679cd2f1cf1",
    "deepnote_cell_height": 75.125,
    "deepnote_cell_type": "markdown",
    "pycharm": {
     "name": "#%% md\n"
    },
    "tags": []
   },
   "source": [
    "Dalam proyek ini, kami menganggap fitur yang memiliki *p-value* dibawah tingkat signifikansi $\\alpha=0.05$ adalah fitur-fitur yang signifikan secara linear, sehingga fitur yang memiliki *p-value* yang lebih besar dari $0.05$ merupakan fitur yang tidak signifikan."
   ]
  },
  {
   "cell_type": "code",
   "execution_count": 35,
   "id": "b0d98f73",
   "metadata": {
    "cell_id": "00035-2d987726-124e-4619-a136-944c2f48c556",
    "deepnote_cell_height": 327,
    "deepnote_cell_type": "code",
    "deepnote_output_heights": [
     194
    ],
    "deepnote_to_be_reexecuted": false,
    "execution_millis": 4,
    "execution_start": 1656240561100,
    "pycharm": {
     "name": "#%%\n"
    },
    "source_hash": "ad1981a6"
   },
   "outputs": [
    {
     "data": {
      "text/plain": "Index(['Alley_Pave', 'LotShape_Reg', 'LandContour_HLS', 'LotConfig_FR2',\n       'Neighborhood_BrDale', 'Neighborhood_MeadowV', 'Neighborhood_StoneBr',\n       'Neighborhood_Veenker', 'Condition1_Feedr', 'HouseStyle_1.5Unf',\n       'HouseStyle_2.5Fin', 'HouseStyle_SFoyer', 'HouseStyle_SLvl',\n       'RoofStyle_Gambrel', 'Foundation_Wood', 'BsmtExposure_Gd',\n       'BsmtExposure_Mn', 'BsmtFinType1_GLQ', 'BsmtFinType1_Rec',\n       'BsmtFinType2_BLQ', 'HeatingQC_Fa', 'HeatingQC_Gd', 'HeatingQC_TA',\n       'Electrical_FuseF', 'FireplaceQu_Fa', 'MasVnrArea', 'WoodDeckSF',\n       'OpenPorchSF', '3SsnPorch', 'ScreenPorch', 'PoolArea'],\n      dtype='object')"
     },
     "execution_count": 35,
     "metadata": {},
     "output_type": "execute_result"
    }
   ],
   "source": [
    "# Mencari fitur-fitur yang signifikan\n",
    "significants = model_lr.pvalues[(model_lr.pvalues < 0.05)].index.drop('const')\n",
    "significants"
   ]
  },
  {
   "cell_type": "markdown",
   "id": "c1f6bd32",
   "metadata": {
    "cell_id": "81fc6063115443ac9ed13bd143a5158f",
    "deepnote_cell_height": 74.796875,
    "deepnote_cell_type": "markdown",
    "pycharm": {
     "name": "#%% md\n"
    },
    "tags": []
   },
   "source": [
    "Setelah membuang fitur-fitur yang tidak signifikan terhadap model regresi linear, kami melakukan pemodelan kembali untuk melihat hasil dari regresi."
   ]
  },
  {
   "cell_type": "code",
   "execution_count": 36,
   "id": "1715b7d1",
   "metadata": {
    "cell_id": "00036-11f24b9f-58a4-42fd-908d-c96e2432d630",
    "deepnote_cell_height": 816,
    "deepnote_cell_type": "code",
    "deepnote_output_heights": [
     611
    ],
    "deepnote_to_be_reexecuted": false,
    "execution_millis": 117,
    "execution_start": 1656240561103,
    "pycharm": {
     "name": "#%%\n"
    },
    "source_hash": "a52207e5"
   },
   "outputs": [
    {
     "data": {
      "text/plain": "<class 'statsmodels.iolib.summary.Summary'>\n\"\"\"\n                            OLS Regression Results                            \n==============================================================================\nDep. Variable:              SalePrice   R-squared:                       0.597\nModel:                            OLS   Adj. R-squared:                  0.583\nMethod:                 Least Squares   F-statistic:                     43.62\nDate:                Sun, 03 Jul 2022   Prob (F-statistic):          5.73e-157\nTime:                        11:09:18   Log-Likelihood:                -11459.\nNo. Observations:                 945   AIC:                         2.298e+04\nDf Residuals:                     913   BIC:                         2.314e+04\nDf Model:                          31                                         \nCovariance Type:            nonrobust                                         \n========================================================================================\n                           coef    std err          t      P>|t|      [0.025      0.975]\n----------------------------------------------------------------------------------------\nconst                 1.817e+05   1477.951    122.932      0.000    1.79e+05    1.85e+05\nAlley_Pave           -3924.3324   1515.770     -2.589      0.010   -6899.131    -949.534\nLotShape_Reg         -5603.9508   1562.272     -3.587      0.000   -8670.013   -2537.889\nLandContour_HLS       4792.9536   1538.628      3.115      0.002    1773.294    7812.613\nLotConfig_FR2        -4448.1598   1518.382     -2.930      0.003   -7428.085   -1468.235\nNeighborhood_BrDale  -6736.7217   1532.688     -4.395      0.000   -9744.722   -3728.722\nNeighborhood_MeadowV -4502.4913   1513.721     -2.974      0.003   -7473.269   -1531.714\nNeighborhood_StoneBr  6629.5324   1516.566      4.371      0.000    3653.171    9605.894\nNeighborhood_Veenker  4258.5415   1544.836      2.757      0.006    1226.700    7290.384\nCondition1_Feedr     -4731.5381   1506.836     -3.140      0.002   -7688.803   -1774.273\nHouseStyle_1.5Unf    -3032.1982   1512.956     -2.004      0.045   -6001.473     -62.923\nHouseStyle_2.5Fin     4163.4095   1499.786      2.776      0.006    1219.981    7106.838\nHouseStyle_SFoyer    -4689.7797   1529.232     -3.067      0.002   -7690.998   -1688.562\nHouseStyle_SLvl      -5136.6776   1560.267     -3.292      0.001   -8198.803   -2074.552\nRoofStyle_Gambrel     4401.9134   1503.134      2.928      0.003    1451.914    7351.913\nFoundation_Wood      -3194.7968   1540.178     -2.074      0.038   -6217.497    -172.097\nBsmtExposure_Gd       9670.7969   1631.967      5.926      0.000    6467.954    1.29e+04\nBsmtExposure_Mn       3113.0402   1508.420      2.064      0.039     152.667    6073.413\nBsmtFinType1_GLQ      1.306e+04   1684.338      7.756      0.000    9758.909    1.64e+04\nBsmtFinType1_Rec     -2891.2805   1552.025     -1.863      0.063   -5937.232     154.671\nBsmtFinType2_BLQ     -2962.6336   1509.060     -1.963      0.050   -5924.262      -1.005\nHeatingQC_Fa         -7479.0750   1556.254     -4.806      0.000   -1.05e+04   -4424.824\nHeatingQC_Gd         -1.083e+04   1609.408     -6.729      0.000    -1.4e+04   -7670.414\nHeatingQC_TA         -1.548e+04   1716.729     -9.016      0.000   -1.88e+04   -1.21e+04\nElectrical_FuseF     -3117.4909   1517.748     -2.054      0.040   -6096.171    -138.811\nFireplaceQu_Fa       -2818.7599   1497.001     -1.883      0.060   -5756.722     119.202\nMasVnrArea            1.858e+04   1587.913     11.701      0.000    1.55e+04    2.17e+04\nWoodDeckSF            1.139e+04   1586.740      7.176      0.000    8272.158    1.45e+04\nOpenPorchSF           1.537e+04   1576.925      9.749      0.000    1.23e+04    1.85e+04\n3SsnPorch             3862.9221   1540.570      2.507      0.012     839.452    6886.393\nScreenPorch           4342.4327   1545.830      2.809      0.005    1308.640    7376.225\nPoolArea              3375.4292   1534.432      2.200      0.028     364.006    6386.852\n==============================================================================\nOmnibus:                      142.272   Durbin-Watson:                   1.935\nProb(Omnibus):                  0.000   Jarque-Bera (JB):              299.342\nSkew:                           0.865   Prob(JB):                     9.97e-66\nKurtosis:                       5.147   Cond. No.                         2.10\n==============================================================================\n\nNotes:\n[1] Standard Errors assume that the covariance matrix of the errors is correctly specified.\n\"\"\"",
      "text/html": "<table class=\"simpletable\">\n<caption>OLS Regression Results</caption>\n<tr>\n  <th>Dep. Variable:</th>        <td>SalePrice</td>    <th>  R-squared:         </th> <td>   0.597</td> \n</tr>\n<tr>\n  <th>Model:</th>                   <td>OLS</td>       <th>  Adj. R-squared:    </th> <td>   0.583</td> \n</tr>\n<tr>\n  <th>Method:</th>             <td>Least Squares</td>  <th>  F-statistic:       </th> <td>   43.62</td> \n</tr>\n<tr>\n  <th>Date:</th>             <td>Sun, 03 Jul 2022</td> <th>  Prob (F-statistic):</th> <td>5.73e-157</td>\n</tr>\n<tr>\n  <th>Time:</th>                 <td>11:09:18</td>     <th>  Log-Likelihood:    </th> <td> -11459.</td> \n</tr>\n<tr>\n  <th>No. Observations:</th>      <td>   945</td>      <th>  AIC:               </th> <td>2.298e+04</td>\n</tr>\n<tr>\n  <th>Df Residuals:</th>          <td>   913</td>      <th>  BIC:               </th> <td>2.314e+04</td>\n</tr>\n<tr>\n  <th>Df Model:</th>              <td>    31</td>      <th>                     </th>     <td> </td>    \n</tr>\n<tr>\n  <th>Covariance Type:</th>      <td>nonrobust</td>    <th>                     </th>     <td> </td>    \n</tr>\n</table>\n<table class=\"simpletable\">\n<tr>\n            <td></td>              <th>coef</th>     <th>std err</th>      <th>t</th>      <th>P>|t|</th>  <th>[0.025</th>    <th>0.975]</th>  \n</tr>\n<tr>\n  <th>const</th>                <td> 1.817e+05</td> <td> 1477.951</td> <td>  122.932</td> <td> 0.000</td> <td> 1.79e+05</td> <td> 1.85e+05</td>\n</tr>\n<tr>\n  <th>Alley_Pave</th>           <td>-3924.3324</td> <td> 1515.770</td> <td>   -2.589</td> <td> 0.010</td> <td>-6899.131</td> <td> -949.534</td>\n</tr>\n<tr>\n  <th>LotShape_Reg</th>         <td>-5603.9508</td> <td> 1562.272</td> <td>   -3.587</td> <td> 0.000</td> <td>-8670.013</td> <td>-2537.889</td>\n</tr>\n<tr>\n  <th>LandContour_HLS</th>      <td> 4792.9536</td> <td> 1538.628</td> <td>    3.115</td> <td> 0.002</td> <td> 1773.294</td> <td> 7812.613</td>\n</tr>\n<tr>\n  <th>LotConfig_FR2</th>        <td>-4448.1598</td> <td> 1518.382</td> <td>   -2.930</td> <td> 0.003</td> <td>-7428.085</td> <td>-1468.235</td>\n</tr>\n<tr>\n  <th>Neighborhood_BrDale</th>  <td>-6736.7217</td> <td> 1532.688</td> <td>   -4.395</td> <td> 0.000</td> <td>-9744.722</td> <td>-3728.722</td>\n</tr>\n<tr>\n  <th>Neighborhood_MeadowV</th> <td>-4502.4913</td> <td> 1513.721</td> <td>   -2.974</td> <td> 0.003</td> <td>-7473.269</td> <td>-1531.714</td>\n</tr>\n<tr>\n  <th>Neighborhood_StoneBr</th> <td> 6629.5324</td> <td> 1516.566</td> <td>    4.371</td> <td> 0.000</td> <td> 3653.171</td> <td> 9605.894</td>\n</tr>\n<tr>\n  <th>Neighborhood_Veenker</th> <td> 4258.5415</td> <td> 1544.836</td> <td>    2.757</td> <td> 0.006</td> <td> 1226.700</td> <td> 7290.384</td>\n</tr>\n<tr>\n  <th>Condition1_Feedr</th>     <td>-4731.5381</td> <td> 1506.836</td> <td>   -3.140</td> <td> 0.002</td> <td>-7688.803</td> <td>-1774.273</td>\n</tr>\n<tr>\n  <th>HouseStyle_1.5Unf</th>    <td>-3032.1982</td> <td> 1512.956</td> <td>   -2.004</td> <td> 0.045</td> <td>-6001.473</td> <td>  -62.923</td>\n</tr>\n<tr>\n  <th>HouseStyle_2.5Fin</th>    <td> 4163.4095</td> <td> 1499.786</td> <td>    2.776</td> <td> 0.006</td> <td> 1219.981</td> <td> 7106.838</td>\n</tr>\n<tr>\n  <th>HouseStyle_SFoyer</th>    <td>-4689.7797</td> <td> 1529.232</td> <td>   -3.067</td> <td> 0.002</td> <td>-7690.998</td> <td>-1688.562</td>\n</tr>\n<tr>\n  <th>HouseStyle_SLvl</th>      <td>-5136.6776</td> <td> 1560.267</td> <td>   -3.292</td> <td> 0.001</td> <td>-8198.803</td> <td>-2074.552</td>\n</tr>\n<tr>\n  <th>RoofStyle_Gambrel</th>    <td> 4401.9134</td> <td> 1503.134</td> <td>    2.928</td> <td> 0.003</td> <td> 1451.914</td> <td> 7351.913</td>\n</tr>\n<tr>\n  <th>Foundation_Wood</th>      <td>-3194.7968</td> <td> 1540.178</td> <td>   -2.074</td> <td> 0.038</td> <td>-6217.497</td> <td> -172.097</td>\n</tr>\n<tr>\n  <th>BsmtExposure_Gd</th>      <td> 9670.7969</td> <td> 1631.967</td> <td>    5.926</td> <td> 0.000</td> <td> 6467.954</td> <td> 1.29e+04</td>\n</tr>\n<tr>\n  <th>BsmtExposure_Mn</th>      <td> 3113.0402</td> <td> 1508.420</td> <td>    2.064</td> <td> 0.039</td> <td>  152.667</td> <td> 6073.413</td>\n</tr>\n<tr>\n  <th>BsmtFinType1_GLQ</th>     <td> 1.306e+04</td> <td> 1684.338</td> <td>    7.756</td> <td> 0.000</td> <td> 9758.909</td> <td> 1.64e+04</td>\n</tr>\n<tr>\n  <th>BsmtFinType1_Rec</th>     <td>-2891.2805</td> <td> 1552.025</td> <td>   -1.863</td> <td> 0.063</td> <td>-5937.232</td> <td>  154.671</td>\n</tr>\n<tr>\n  <th>BsmtFinType2_BLQ</th>     <td>-2962.6336</td> <td> 1509.060</td> <td>   -1.963</td> <td> 0.050</td> <td>-5924.262</td> <td>   -1.005</td>\n</tr>\n<tr>\n  <th>HeatingQC_Fa</th>         <td>-7479.0750</td> <td> 1556.254</td> <td>   -4.806</td> <td> 0.000</td> <td>-1.05e+04</td> <td>-4424.824</td>\n</tr>\n<tr>\n  <th>HeatingQC_Gd</th>         <td>-1.083e+04</td> <td> 1609.408</td> <td>   -6.729</td> <td> 0.000</td> <td> -1.4e+04</td> <td>-7670.414</td>\n</tr>\n<tr>\n  <th>HeatingQC_TA</th>         <td>-1.548e+04</td> <td> 1716.729</td> <td>   -9.016</td> <td> 0.000</td> <td>-1.88e+04</td> <td>-1.21e+04</td>\n</tr>\n<tr>\n  <th>Electrical_FuseF</th>     <td>-3117.4909</td> <td> 1517.748</td> <td>   -2.054</td> <td> 0.040</td> <td>-6096.171</td> <td> -138.811</td>\n</tr>\n<tr>\n  <th>FireplaceQu_Fa</th>       <td>-2818.7599</td> <td> 1497.001</td> <td>   -1.883</td> <td> 0.060</td> <td>-5756.722</td> <td>  119.202</td>\n</tr>\n<tr>\n  <th>MasVnrArea</th>           <td> 1.858e+04</td> <td> 1587.913</td> <td>   11.701</td> <td> 0.000</td> <td> 1.55e+04</td> <td> 2.17e+04</td>\n</tr>\n<tr>\n  <th>WoodDeckSF</th>           <td> 1.139e+04</td> <td> 1586.740</td> <td>    7.176</td> <td> 0.000</td> <td> 8272.158</td> <td> 1.45e+04</td>\n</tr>\n<tr>\n  <th>OpenPorchSF</th>          <td> 1.537e+04</td> <td> 1576.925</td> <td>    9.749</td> <td> 0.000</td> <td> 1.23e+04</td> <td> 1.85e+04</td>\n</tr>\n<tr>\n  <th>3SsnPorch</th>            <td> 3862.9221</td> <td> 1540.570</td> <td>    2.507</td> <td> 0.012</td> <td>  839.452</td> <td> 6886.393</td>\n</tr>\n<tr>\n  <th>ScreenPorch</th>          <td> 4342.4327</td> <td> 1545.830</td> <td>    2.809</td> <td> 0.005</td> <td> 1308.640</td> <td> 7376.225</td>\n</tr>\n<tr>\n  <th>PoolArea</th>             <td> 3375.4292</td> <td> 1534.432</td> <td>    2.200</td> <td> 0.028</td> <td>  364.006</td> <td> 6386.852</td>\n</tr>\n</table>\n<table class=\"simpletable\">\n<tr>\n  <th>Omnibus:</th>       <td>142.272</td> <th>  Durbin-Watson:     </th> <td>   1.935</td>\n</tr>\n<tr>\n  <th>Prob(Omnibus):</th> <td> 0.000</td>  <th>  Jarque-Bera (JB):  </th> <td> 299.342</td>\n</tr>\n<tr>\n  <th>Skew:</th>          <td> 0.865</td>  <th>  Prob(JB):          </th> <td>9.97e-66</td>\n</tr>\n<tr>\n  <th>Kurtosis:</th>      <td> 5.147</td>  <th>  Cond. No.          </th> <td>    2.10</td>\n</tr>\n</table><br/><br/>Notes:<br/>[1] Standard Errors assume that the covariance matrix of the errors is correctly specified."
     },
     "execution_count": 36,
     "metadata": {},
     "output_type": "execute_result"
    }
   ],
   "source": [
    "# Mendefinisikan variabel independen yang signifikan serta variabel dependen\n",
    "X2 = sm.add_constant(X_train[significants])\n",
    "y2 = y_train\n",
    "\n",
    "# Menggunakan statsmodels untuk melihat hasil regresi\n",
    "model_lr2 = sm.OLS(y2, X2).fit()\n",
    "model_lr2.summary()"
   ]
  },
  {
   "cell_type": "code",
   "execution_count": 37,
   "id": "956c4d79",
   "metadata": {
    "cell_id": "00037-d25583a5-408b-4a4c-a5e8-063218b2f804",
    "deepnote_cell_height": 222,
    "deepnote_cell_type": "code",
    "deepnote_to_be_reexecuted": false,
    "execution_millis": 89,
    "execution_start": 1656240561225,
    "pycharm": {
     "name": "#%%\n"
    },
    "source_hash": "c78a7f5a"
   },
   "outputs": [
    {
     "name": "stdout",
     "output_type": "stream",
     "text": [
      "Linear Regression Train Score is :  0.5969328394638045\n",
      "Linear Regression Test Score is :  0.5596282034752587\n"
     ]
    }
   ],
   "source": [
    "# Membuat model regresi linear baru\n",
    "LR3 = LinearRegression().fit(X_train[significants], y_train)\n",
    "\n",
    "# Membandingkan performa R^2 model baru\n",
    "print('Linear Regression Train Score is : ' , LR3.score(X_train[significants], y_train))\n",
    "print('Linear Regression Test Score is : ' , LR3.score(X_test[significants], y_test))"
   ]
  },
  {
   "cell_type": "markdown",
   "id": "aa8f9d1c",
   "metadata": {
    "cell_id": "de8cc7e73fd143fba5337b49a5fad8b7",
    "deepnote_cell_height": 97.84375,
    "deepnote_cell_type": "markdown",
    "pycharm": {
     "name": "#%% md\n"
    },
    "tags": []
   },
   "source": [
    "Dapat dilihat bahwa model dengan fitur yang signifikan memiliki performa $R^2$ yang lebih baik untuk kedua dataset. Kita juga melakukan validasi silang untuk model tersebut dengan melakukan $5$-*Fold Cross Validation* untuk menghitung nilai $R^2$ dan *Root Mean Squared Error* (RMSE) dari model."
   ]
  },
  {
   "cell_type": "code",
   "execution_count": 38,
   "id": "33de04a0",
   "metadata": {
    "cell_id": "00038-5301771d-b3dc-4c0c-9dff-7d1dbd3d42af",
    "deepnote_cell_height": 135,
    "deepnote_cell_type": "code",
    "deepnote_to_be_reexecuted": false,
    "execution_millis": 2926,
    "execution_start": 1656240561316,
    "pycharm": {
     "name": "#%%\n"
    },
    "source_hash": "44225024"
   },
   "outputs": [],
   "source": [
    "# Melakukan validasi silang\n",
    "lin_scores = cross_validate(LinearRegression(), StandardScaler().fit_transform(data_linear[significants]), data_linear['SalePrice'],\n",
    "                             scoring=[\"r2\", 'neg_root_mean_squared_error'], cv=5,\n",
    "                             n_jobs=-1)"
   ]
  },
  {
   "cell_type": "code",
   "execution_count": 39,
   "id": "d3197d5d",
   "metadata": {
    "cell_id": "00039-6f5ce40d-9c1e-468d-8e0b-80f2b5d29130",
    "deepnote_cell_height": 170,
    "deepnote_cell_type": "code",
    "deepnote_to_be_reexecuted": false,
    "execution_millis": 6,
    "execution_start": 1656240564294,
    "pycharm": {
     "name": "#%%\n"
    },
    "source_hash": "c6bcd3aa"
   },
   "outputs": [
    {
     "name": "stdout",
     "output_type": "stream",
     "text": [
      "Scores: [0.5451116  0.57286545 0.56615458 0.54563768 0.57618247]\n",
      "Mean: 0.5611903546273765\n",
      "Standard deviation: 0.013312602024963514\n"
     ]
    }
   ],
   "source": [
    "# Memunculkan nilai R^2\n",
    "display_scores(lin_scores['test_r2'])"
   ]
  },
  {
   "cell_type": "code",
   "execution_count": 40,
   "id": "f03ee433",
   "metadata": {
    "cell_id": "00040-358ffe9a-5a73-425a-b459-908e9ee06674",
    "deepnote_cell_height": 190,
    "deepnote_cell_type": "code",
    "deepnote_to_be_reexecuted": false,
    "execution_millis": 5,
    "execution_start": 1656240564307,
    "pycharm": {
     "name": "#%%\n"
    },
    "source_hash": "bd678cc6"
   },
   "outputs": [
    {
     "name": "stdout",
     "output_type": "stream",
     "text": [
      "Scores: [48285.8598722  49622.29665839 46760.28241726 42414.05496866\n",
      " 44138.90754242]\n",
      "Mean: 46244.28029178723\n",
      "Standard deviation: 2643.8048486781936\n"
     ]
    }
   ],
   "source": [
    "# Memunculkan nilai RMSE\n",
    "display_scores(lin_scores['test_neg_root_mean_squared_error'] * -1)"
   ]
  },
  {
   "cell_type": "markdown",
   "id": "e45478a4",
   "metadata": {
    "pycharm": {
     "name": "#%% md\n"
    }
   },
   "source": [
    "### 3.2. Decision Tree\n",
    "*Decision tree* dilatih menggunakan data yang sudah dibersihkan dengan dibatasi maksimal kedalaman pohon $4$ cabang. Model dibandingkan dengan menggunakan data *training* dan *testing*. Sebelum kami memulai melatih model tersebut, kami akan memisahkan *training* dan *testing* set dan melakukan pengskalaan variabel independen."
   ]
  },
  {
   "cell_type": "code",
   "execution_count": 41,
   "id": "ad5d826d",
   "metadata": {
    "pycharm": {
     "name": "#%%\n"
    }
   },
   "outputs": [],
   "source": [
    "# Memisahkan data training dan testing\n",
    "X1_train, X1_test, y1_train, y1_test = train_test_split(data.drop(columns='SalePrice'), data['SalePrice'],\n",
    "                                                    test_size=0.3, random_state=101)\n",
    "\n",
    "# Melakukan standard scaling\n",
    "scaler = StandardScaler().fit(X1_train)\n",
    "X1_train = pd.DataFrame(scaler.transform(X1_train), columns = X1_train.columns, index=X1_train.index)\n",
    "X1_test = pd.DataFrame(scaler.transform(X1_test), columns = X1_test.columns, index=X1_test.index)"
   ]
  },
  {
   "cell_type": "code",
   "execution_count": 42,
   "id": "5e2eddbf",
   "metadata": {
    "pycharm": {
     "name": "#%%\n"
    }
   },
   "outputs": [],
   "source": [
    "# # Mendefinisikan dictionary untuk hyperparameter yang akan dicari\n",
    "# hyperparameter = {\n",
    "#     'max_leaf_nodes': list(range(2, 100)),\n",
    "#     'min_samples_split': [2, 3, 4],\n",
    "#     'max_depth':list(range(2, 100))\n",
    "# }\n",
    "#\n",
    "# # Menggunakan random searching untuk mencari hyperparameter terbaik\n",
    "# model_dtree = RandomizedSearchCV(DecisionTreeRegressor(random_state = 101),\n",
    "#                                  hyperparameter,\n",
    "#                                  scoring = 'r2',\n",
    "#                                  cv = 5,\n",
    "#                                  n_iter = 200,\n",
    "#                                  random_state = 101,\n",
    "#                                  verbose = 2,\n",
    "#                                  n_jobs = -1)\n",
    "#\n",
    "# # Melakukan fitting terhadap data training\n",
    "# model_dtree.fit(X1_train, y1_train)\n",
    "#\n",
    "# # Menyimpan model terbaik\n",
    "# joblib.dump(model_dtree, 'model_dumps//model_dtree.sav')"
   ]
  },
  {
   "cell_type": "code",
   "execution_count": 43,
   "id": "5f0f2e38",
   "metadata": {
    "pycharm": {
     "name": "#%%\n"
    }
   },
   "outputs": [
    {
     "name": "stdout",
     "output_type": "stream",
     "text": [
      "{'min_samples_split': 4, 'max_leaf_nodes': 91, 'max_depth': 7}\n",
      "Decision Tree Train Score is :  0.9447332835385436\n",
      "Decision Tree Test Score is :  0.7121873496304836\n"
     ]
    }
   ],
   "source": [
    "# Meload model terbaik\n",
    "model_dtree = joblib.load('model_dumps//model_dtree.sav')\n",
    "\n",
    "# Menunjukan hyperparameter terbaik\n",
    "print(model_dtree.best_params_)\n",
    "\n",
    "# Membandingkan performa R-squared dari model\n",
    "print('Decision Tree Train Score is : ' , model_dtree.score(X1_train, y1_train))\n",
    "print('Decision Tree Test Score is : ' , model_dtree.score(X1_test, y1_test))"
   ]
  },
  {
   "cell_type": "markdown",
   "id": "36650e99",
   "metadata": {
    "pycharm": {
     "name": "#%% md\n"
    }
   },
   "source": [
    "$5$-*Fold Cross validation* dilakukan untuk validasi hasil performa model. Perform model dilihat melalui koefisien determinasi dan RMSE."
   ]
  },
  {
   "cell_type": "code",
   "execution_count": 44,
   "id": "a80a06d6",
   "metadata": {
    "pycharm": {
     "name": "#%%\n"
    }
   },
   "outputs": [],
   "source": [
    "# Melakukan validasi silang\n",
    "dtree_scores = cross_validate(model_dtree.best_estimator_,\n",
    "                             StandardScaler().fit_transform(data.drop(columns='SalePrice')), data['SalePrice'],\n",
    "                             scoring=[\"r2\", 'neg_root_mean_squared_error'], cv=5,\n",
    "                             n_jobs=-1)"
   ]
  },
  {
   "cell_type": "code",
   "execution_count": 45,
   "id": "3ab0e566",
   "metadata": {
    "pycharm": {
     "name": "#%%\n"
    }
   },
   "outputs": [
    {
     "name": "stdout",
     "output_type": "stream",
     "text": [
      "Scores: [0.72730717 0.82121261 0.7920589  0.74561526 0.78341484]\n",
      "Mean: 0.7739217544332723\n",
      "Standard deviation: 0.033554958566518585\n"
     ]
    }
   ],
   "source": [
    "# Memunculkan nilai R^2\n",
    "display_scores(dtree_scores['test_r2'])"
   ]
  },
  {
   "cell_type": "code",
   "execution_count": 46,
   "id": "a63f1f93",
   "metadata": {
    "pycharm": {
     "name": "#%%\n"
    }
   },
   "outputs": [
    {
     "name": "stdout",
     "output_type": "stream",
     "text": [
      "Scores: [37385.60375585 32104.28153661 32372.76455426 31736.14451168\n",
      " 31553.42245594]\n",
      "Mean: 33030.44336286767\n",
      "Standard deviation: 2196.1119947762795\n"
     ]
    }
   ],
   "source": [
    "# Memunculkan nilai RMSE\n",
    "display_scores(dtree_scores['test_neg_root_mean_squared_error'] * -1)"
   ]
  },
  {
   "cell_type": "markdown",
   "id": "06bf4ffa",
   "metadata": {
    "pycharm": {
     "name": "#%% md\n"
    }
   },
   "source": [
    "### 3.3. Random Forest\n",
    "\n",
    "*Random Forest* merupakan hasil dari berbagai *decision tree*. Random forest memiliki performa yang lebih baik dari *decision tree* jika menggunakan data yang memiliki banyak variabel. `RandomForestRegressor` dipanggil dan melihat hasil koefisien determinasi menggunakan data *training* dan *testing."
   ]
  },
  {
   "cell_type": "code",
   "execution_count": 47,
   "id": "fec7a25f",
   "metadata": {
    "pycharm": {
     "name": "#%%\n"
    }
   },
   "outputs": [],
   "source": [
    "# # Mendefinisikan dictionary untuk hyperparameter yang akan dicari\n",
    "# hyperparameter = {\n",
    "#     'n_estimators': np.linspace(100, 1000, 10, dtype=np.int64),\n",
    "#     'max_leaf_nodes': list(range(2, 100)),\n",
    "#     'min_samples_split': [2, 3, 4],\n",
    "#     'max_depth':list(range(2, 100))\n",
    "# }\n",
    "#\n",
    "# # Menggunakan random searching untuk mencari hyperparameter terbaik\n",
    "# model_rf = RandomizedSearchCV(RandomForestRegressor(random_state = 101),\n",
    "#                               hyperparameter,\n",
    "#                               scoring = 'r2',\n",
    "#                               cv = 5,\n",
    "#                               n_iter = 200,\n",
    "#                               random_state = 101,\n",
    "#                               verbose = 2,\n",
    "#                               n_jobs = -1)\n",
    "#\n",
    "# # Melakukan fitting terhadap data training\n",
    "# model_rf.fit(X1_train, y1_train)\n",
    "#\n",
    "# # Menyimpan model terbaik\n",
    "# joblib.dump(model_rf, 'model_dumps//model_rf.sav')"
   ]
  },
  {
   "cell_type": "code",
   "execution_count": 48,
   "id": "183a32ce",
   "metadata": {
    "pycharm": {
     "name": "#%%\n"
    }
   },
   "outputs": [
    {
     "name": "stdout",
     "output_type": "stream",
     "text": [
      "{'n_estimators': 700, 'min_samples_split': 2, 'max_leaf_nodes': 99, 'max_depth': 72}\n",
      "Random Forest Regressor Train Score is :  0.9729731775253023\n",
      "Random Forest Regressor Test Score is :  0.8710745252328319\n"
     ]
    }
   ],
   "source": [
    "# Meload model terbaik\n",
    "model_rf = joblib.load('model_dumps//model_rf.sav')\n",
    "\n",
    "# Menunjukan hyperparameter terbaik\n",
    "print(model_rf.best_params_)\n",
    "\n",
    "# Membandingkan performa R-squared dari model\n",
    "print('Random Forest Regressor Train Score is : ' , model_rf.score(X1_train, y1_train))\n",
    "print('Random Forest Regressor Test Score is : ' , model_rf.score(X1_test, y1_test))"
   ]
  },
  {
   "cell_type": "markdown",
   "id": "c763300f",
   "metadata": {
    "pycharm": {
     "name": "#%% md\n"
    }
   },
   "source": [
    "Cross validation dilakukan untuk validasi hasil performa dari random forest. Hasil performa dilihat dengan menggunakan koefisien determinasi dan RMSE."
   ]
  },
  {
   "cell_type": "code",
   "execution_count": 49,
   "id": "a7b0dbff",
   "metadata": {
    "pycharm": {
     "name": "#%%\n"
    }
   },
   "outputs": [],
   "source": [
    "# Melakukan validasi silang\n",
    "rf_scores = cross_validate(model_rf.best_estimator_,\n",
    "                           StandardScaler().fit_transform(data.drop(columns='SalePrice')), data['SalePrice'],\n",
    "                           scoring=[\"r2\", 'neg_root_mean_squared_error'], cv=5,\n",
    "                           n_jobs=-1)"
   ]
  },
  {
   "cell_type": "code",
   "execution_count": 50,
   "id": "2c7a16a7",
   "metadata": {
    "pycharm": {
     "name": "#%%\n"
    }
   },
   "outputs": [
    {
     "name": "stdout",
     "output_type": "stream",
     "text": [
      "Scores: [0.84384503 0.90854819 0.86188457 0.89429498 0.87096465]\n",
      "Mean: 0.8759074848518683\n",
      "Standard deviation: 0.023032975920753963\n"
     ]
    }
   ],
   "source": [
    "# Memunculkan nilai R^2\n",
    "display_scores(rf_scores['test_r2'])"
   ]
  },
  {
   "cell_type": "code",
   "execution_count": 51,
   "id": "6d710e08",
   "metadata": {
    "pycharm": {
     "name": "#%%\n"
    }
   },
   "outputs": [
    {
     "name": "stdout",
     "output_type": "stream",
     "text": [
      "Scores: [28290.81373003 22960.99314328 26383.39751815 20457.68297878\n",
      " 24354.90634456]\n",
      "Mean: 24489.55874295846\n",
      "Standard deviation: 2707.280222726571\n"
     ]
    }
   ],
   "source": [
    "# Memunculkan nilai RMSE\n",
    "display_scores(rf_scores['test_neg_root_mean_squared_error'] * -1)"
   ]
  },
  {
   "cell_type": "markdown",
   "id": "eff71f8f",
   "metadata": {
    "cell_id": "00038-bbbc6fad-8b76-4dd3-ac9d-7fa440b04dc9",
    "deepnote_cell_height": 145.1875,
    "deepnote_cell_type": "markdown",
    "owner_user_id": "43cba39f-ceee-4745-ab0c-865ed79dd624",
    "pycharm": {
     "name": "#%% md\n"
    }
   },
   "source": [
    "### 3.4. Gradient Boosting Model\n",
    "*Gradient Boosting* adalah model ensamble yang merupakan serangkaian *decision tree* yang dilatih untuk menutupi kekurangan model-model lainnya."
   ]
  },
  {
   "cell_type": "code",
   "execution_count": 52,
   "id": "0a9c8a55",
   "metadata": {
    "pycharm": {
     "name": "#%%\n"
    }
   },
   "outputs": [],
   "source": [
    "# # Mendefinisikan dictionary untuk hyperparameter yang akan dicari\n",
    "# hyperparameter = {\n",
    "#     'n_estimators': np.linspace(100, 1000, 10, dtype=np.int64),\n",
    "#     'max_leaf_nodes': list(range(2, 100)),\n",
    "#     'min_samples_split': [2, 3, 4],\n",
    "#     'max_depth':list(range(2, 100)),\n",
    "#     'learning_rate':np.linspace(0.1, 1, 10)\n",
    "# }\n",
    "#\n",
    "# # Menggunakan random searching untuk mencari hyperparameter terbaik\n",
    "# model_gbr = RandomizedSearchCV(GradientBoostingRegressor(random_state = 101),\n",
    "#                                hyperparameter,\n",
    "#                                scoring = 'r2',\n",
    "#                                cv = 5,\n",
    "#                                n_iter = 200,\n",
    "#                                random_state = 101,\n",
    "#                                verbose = 2,\n",
    "#                                n_jobs = -1)\n",
    "#\n",
    "# # Melakukan fitting terhadap data training\n",
    "# model_gbr.fit(X1_train, y1_train)\n",
    "#\n",
    "# # Menyimpan model terbaik\n",
    "# joblib.dump(model_gbr, 'model_dumps//model_gbr.sav')"
   ]
  },
  {
   "cell_type": "code",
   "execution_count": 53,
   "id": "eaa0dca7",
   "metadata": {
    "cell_id": "00040-a7704dfe-555e-4fac-9e60-23fc48de6d12",
    "deepnote_cell_height": 240,
    "deepnote_cell_type": "code",
    "deepnote_to_be_reexecuted": false,
    "execution_millis": 10534,
    "execution_start": 1656240564401,
    "pycharm": {
     "name": "#%%\n"
    },
    "source_hash": "bb6d5335"
   },
   "outputs": [
    {
     "name": "stdout",
     "output_type": "stream",
     "text": [
      "{'n_estimators': 800, 'min_samples_split': 3, 'max_leaf_nodes': 2, 'max_depth': 41, 'learning_rate': 0.30000000000000004}\n",
      "GBRModel Train Score is :  0.96564235970932\n",
      "GBRModel Test Score is :  0.8905804535639479\n"
     ]
    }
   ],
   "source": [
    "# Meload model terbaik\n",
    "model_gbr = joblib.load('model_dumps//model_gbr.sav')\n",
    "\n",
    "# Menunjukan hyperparameter terbaik\n",
    "print(model_gbr.best_params_)\n",
    "\n",
    "# Membandingkan performa R-squared dari model\n",
    "print('GBRModel Train Score is : ' , model_gbr.score(X1_train, y1_train))\n",
    "print('GBRModel Test Score is : ' , model_gbr.score(X1_test, y1_test))"
   ]
  },
  {
   "cell_type": "markdown",
   "id": "bdd20298",
   "metadata": {
    "cell_id": "81fbc5250a794b4e80db32ef24d9a514",
    "deepnote_cell_height": 75.125,
    "deepnote_cell_type": "markdown",
    "pycharm": {
     "name": "#%% md\n"
    },
    "tags": []
   },
   "source": [
    "Sama layaknya regresi linear, kami juga menggunakan $5$-*Fold Cross Validation* untuk menguji performa dari model yang dimiliki, baik untuk $R^2$ maupun juga RMSE."
   ]
  },
  {
   "cell_type": "code",
   "execution_count": 54,
   "id": "bee4b0e7",
   "metadata": {
    "cell_id": "00044-407c4fbd-da43-449b-981c-cc478f86ccfb",
    "deepnote_cell_height": 153,
    "deepnote_cell_type": "code",
    "deepnote_to_be_reexecuted": false,
    "execution_millis": 56271,
    "execution_start": 1656240574398,
    "pycharm": {
     "name": "#%%\n"
    },
    "source_hash": "7ca2b402"
   },
   "outputs": [],
   "source": [
    "# Melakukan validasi silang\n",
    "gbrm_scores = cross_validate(model_gbr.best_estimator_,\n",
    "                             StandardScaler().fit_transform(data.drop(columns='SalePrice')), data['SalePrice'],\n",
    "                             scoring=[\"r2\", 'neg_root_mean_squared_error'], cv=5,\n",
    "                             n_jobs=-1)"
   ]
  },
  {
   "cell_type": "code",
   "execution_count": 55,
   "id": "53eb61dc",
   "metadata": {
    "cell_id": "00045-e815706c-4f09-435a-b48a-791ecab0302c",
    "deepnote_cell_height": 170,
    "deepnote_cell_type": "code",
    "deepnote_to_be_reexecuted": false,
    "execution_millis": 1,
    "execution_start": 1656240630669,
    "pycharm": {
     "name": "#%%\n"
    },
    "source_hash": "69ca1f34"
   },
   "outputs": [
    {
     "name": "stdout",
     "output_type": "stream",
     "text": [
      "Scores: [0.88940785 0.92399522 0.90037811 0.92396196 0.88845346]\n",
      "Mean: 0.9052393198118576\n",
      "Standard deviation: 0.015864129142491308\n"
     ]
    }
   ],
   "source": [
    "# Memunculkan skor R^2\n",
    "display_scores(gbrm_scores['test_r2'])"
   ]
  },
  {
   "cell_type": "code",
   "execution_count": 56,
   "id": "80cec8a8",
   "metadata": {
    "cell_id": "00046-7c8ed001-ea10-4447-bfff-41f4d0c90785",
    "deepnote_cell_height": 190,
    "deepnote_cell_type": "code",
    "deepnote_to_be_reexecuted": false,
    "execution_millis": 4,
    "execution_start": 1656240630670,
    "pycharm": {
     "name": "#%%\n"
    },
    "source_hash": "cff572d4"
   },
   "outputs": [
    {
     "name": "stdout",
     "output_type": "stream",
     "text": [
      "Scores: [23808.37116308 20932.20358182 22407.17020721 17350.98379657\n",
      " 22644.36649866]\n",
      "Mean: 21428.619049467554\n",
      "Standard deviation: 2234.8316233189103\n"
     ]
    }
   ],
   "source": [
    "# Memunculkan skor RMSE\n",
    "display_scores(gbrm_scores['test_neg_root_mean_squared_error'] * -1)"
   ]
  },
  {
   "cell_type": "markdown",
   "id": "bc9975b5",
   "metadata": {
    "cell_id": "21e2be951b5b446c9f4276f7cd481746",
    "deepnote_cell_height": 156,
    "deepnote_cell_type": "markdown",
    "pycharm": {
     "name": "#%% md\n"
    },
    "tags": []
   },
   "source": [
    "### 3.5. XGB Reg Model\n",
    "\n",
    "XGBoost merupakan gabungan dari algoritma *sparsity-aware* untuk data yang kosong dan *weighted quantile* untuk aproksimasi *learning tree*. XGBoost cocok untuk variabel independen yang memiliki kontribusi berbeda terhadap variabel independen dan mengisi data yang kosong seperti data ini.\n",
    "\n",
    "Hasil dari XGBoost dibandingkan dengan menggunakan data *training* dan *testing*. Performa XGB dibandingkan menggunakan koefisien determinasi."
   ]
  },
  {
   "cell_type": "code",
   "execution_count": 57,
   "id": "c6ea5934",
   "metadata": {
    "pycharm": {
     "name": "#%%\n"
    }
   },
   "outputs": [],
   "source": [
    "# # Mendefinisikan dictionary untuk hyperparameter yang akan dicari\n",
    "# hyperparameter = {\n",
    "#     'n_estimators': np.linspace(100, 1000, 10, dtype=np.int64),\n",
    "#     'max_leaf_nodes': list(range(2, 100)),\n",
    "#     'min_samples_split': [2, 3, 4],\n",
    "#     'max_depth':list(range(2, 100)),\n",
    "#     'learning_rate':np.linspace(0.1, 1, 10)\n",
    "# }\n",
    "#\n",
    "# # Menggunakan random searching untuk mencari hyperparameter terbaik\n",
    "# model_xgb = RandomizedSearchCV(XGBRegressor(random_state = 101),\n",
    "#                                hyperparameter,\n",
    "#                                scoring = 'r2',\n",
    "#                                cv = 5,\n",
    "#                                n_iter = 200,\n",
    "#                                random_state = 101,\n",
    "#                                verbose = 2,\n",
    "#                                n_jobs = -1)\n",
    "#\n",
    "# # Melakukan fitting terhadap data training\n",
    "# model_xgb.fit(X1_train, y1_train)\n",
    "#\n",
    "# # Menyimpan model terbaik\n",
    "# joblib.dump(model_xgb, 'model_dumps//model_xgb.sav')"
   ]
  },
  {
   "cell_type": "code",
   "execution_count": 58,
   "id": "7b5349e2",
   "metadata": {
    "cell_id": "00047-ddcd054a-4139-464b-a00f-f46969166377",
    "deepnote_cell_height": 222,
    "deepnote_cell_type": "code",
    "deepnote_to_be_reexecuted": false,
    "execution_millis": 10886,
    "execution_start": 1656240649746,
    "pycharm": {
     "name": "#%%\n"
    },
    "source_hash": "2ec909a5"
   },
   "outputs": [
    {
     "name": "stdout",
     "output_type": "stream",
     "text": [
      "{'n_estimators': 800, 'min_samples_split': 2, 'max_leaf_nodes': 78, 'max_depth': 2, 'learning_rate': 0.2}\n",
      "XGB REG Train Score is :  0.9955371414080815\n",
      "XGB REG Forest Test Score is :  0.8901344624554324\n"
     ]
    }
   ],
   "source": [
    "# Meload model terbaik\n",
    "model_xgb = joblib.load('model_dumps//model_xgb.sav')\n",
    "\n",
    "# Menunjukan hyperparameter terbaik\n",
    "print(model_xgb.best_params_)\n",
    "\n",
    "# Membandingkan performa R-squared dari model\n",
    "print('XGB REG Train Score is : ' , model_xgb.score(X1_train, y1_train))\n",
    "print('XGB REG Forest Test Score is : ' , model_xgb.score(X1_test, y1_test))"
   ]
  },
  {
   "cell_type": "markdown",
   "id": "def3c457",
   "metadata": {
    "cell_id": "fc9094b069e34baa8ea96d7472c3e7f3",
    "deepnote_cell_height": 74.796875,
    "deepnote_cell_type": "markdown",
    "pycharm": {
     "name": "#%% md\n"
    },
    "tags": []
   },
   "source": [
    "Agar hasil model sesuai, maka dilakukan $5$-*Fold Cross Validation* agar mendapatkan performa model yang sesuai dengan *training* set."
   ]
  },
  {
   "cell_type": "code",
   "execution_count": 59,
   "id": "2d29d072",
   "metadata": {
    "cell_id": "00061-f73f56a3-94fd-40fb-91e4-b1474768d3f6",
    "deepnote_cell_height": 216.1875,
    "deepnote_cell_type": "code",
    "deepnote_to_be_reexecuted": false,
    "execution_millis": 1068,
    "execution_start": 1656240660635,
    "pycharm": {
     "name": "#%%\n"
    },
    "source_hash": "93456b59"
   },
   "outputs": [],
   "source": [
    "# Melakukan validasi silang\n",
    "xgb_scores = cross_validate(model_xgb.best_estimator_,\n",
    "                            StandardScaler().fit_transform(data.drop(columns='SalePrice')), data['SalePrice'],\n",
    "                            scoring=[\"r2\",\"neg_root_mean_squared_error\"], cv=5,\n",
    "                            n_jobs=-1)"
   ]
  },
  {
   "cell_type": "markdown",
   "id": "d10abd25",
   "metadata": {
    "cell_id": "76034bf7fe1a433eae1453b4cb452c8e",
    "deepnote_cell_height": 52.390625,
    "deepnote_cell_type": "markdown",
    "pycharm": {
     "name": "#%% md\n"
    },
    "tags": []
   },
   "source": [
    "Performa model dilihat melalui nilai koefesien determinasi."
   ]
  },
  {
   "cell_type": "code",
   "execution_count": 60,
   "id": "5a184cdd",
   "metadata": {
    "cell_id": "00062-aac3d61c-7cd3-4a08-816c-b20838d14724",
    "deepnote_cell_height": 170,
    "deepnote_cell_type": "code",
    "deepnote_to_be_reexecuted": true,
    "execution_millis": 337,
    "execution_start": 1656235243265,
    "pycharm": {
     "name": "#%%\n"
    },
    "source_hash": "5ab83a40"
   },
   "outputs": [
    {
     "name": "stdout",
     "output_type": "stream",
     "text": [
      "Scores: [0.8977199  0.92069961 0.90307806 0.92538381 0.87957725]\n",
      "Mean: 0.9052917275305086\n",
      "Standard deviation: 0.016520060768627807\n"
     ]
    }
   ],
   "source": [
    "# Memunculkan nilai R^2\n",
    "display_scores(xgb_scores['test_r2'])"
   ]
  },
  {
   "cell_type": "markdown",
   "id": "96ad4607",
   "metadata": {
    "cell_id": "94535fee698a435c8d349c16c37caff7",
    "deepnote_cell_height": 52.390625,
    "deepnote_cell_type": "markdown",
    "pycharm": {
     "name": "#%% md\n"
    },
    "tags": []
   },
   "source": [
    "Performa model juga dilihat melalui nilai root mean square."
   ]
  },
  {
   "cell_type": "code",
   "execution_count": 61,
   "id": "da34f9a7",
   "metadata": {
    "cell_id": "00063-963e1fac-f098-4333-86a9-242f2da50bb4",
    "deepnote_cell_height": 190,
    "deepnote_cell_type": "code",
    "deepnote_to_be_reexecuted": true,
    "execution_millis": 335,
    "execution_start": 1656235243267,
    "pycharm": {
     "name": "#%%\n"
    },
    "source_hash": "edf5a411"
   },
   "outputs": [
    {
     "name": "stdout",
     "output_type": "stream",
     "text": [
      "Scores: [22896.1840169  21381.20435659 22101.44512316 17187.99270466\n",
      " 23528.07461105]\n",
      "Mean: 21418.980162471766\n",
      "Standard deviation: 2236.0165886130367\n"
     ]
    }
   ],
   "source": [
    "# Memunculkan nilai RMSE\n",
    "display_scores(xgb_scores['test_neg_root_mean_squared_error'] * -1)"
   ]
  },
  {
   "cell_type": "markdown",
   "id": "71fc5d0e",
   "metadata": {
    "cell_id": "c05ff79e3624480ca79f24f5c7c19a58",
    "deepnote_cell_height": 70,
    "deepnote_cell_type": "markdown",
    "pycharm": {
     "name": "#%% md\n"
    },
    "tags": []
   },
   "source": [
    "## 4. Kesimpulan"
   ]
  },
  {
   "cell_type": "markdown",
   "id": "95f544a0",
   "metadata": {
    "cell_id": "ee326307b6884f8b9de13c7769c91f55",
    "deepnote_cell_height": 119.59375,
    "deepnote_cell_type": "markdown",
    "pycharm": {
     "name": "#%% md\n"
    },
    "tags": []
   },
   "source": [
    "Setelah semua permodelan dibuat, maka kami membandingkan semua hasil permodelan berdasarkan koefisien determinasi dan root mean square. Tabel diurutkan dari yang paling besar untuk menunjukkan model yang terbaik. Hasil menunjukkan bahwa XGB Regressor model memiliki performa terbaik setelah dilakukan cross validation dengan nilai koefisien determinasi $0.91$ dan RMSE $21,419$."
   ]
  },
  {
   "cell_type": "code",
   "execution_count": 62,
   "id": "cc3c629e",
   "metadata": {
    "cell_id": "31f28bd4f49c4857820d9d8f823563b5",
    "deepnote_cell_height": 665,
    "deepnote_cell_type": "code",
    "deepnote_to_be_reexecuted": true,
    "execution_millis": 3,
    "execution_start": 1656235403177,
    "pycharm": {
     "name": "#%%\n"
    },
    "source_hash": "eea040e2",
    "tags": []
   },
   "outputs": [
    {
     "data": {
      "text/plain": "                          Mean_R2     Mean_RMSE\nXGB Reg Model            0.905292  21418.980162\nGradient Boosting Model  0.905239  21428.619049\nRandom Forest            0.875907  24489.558743\nDecision Tree            0.773922  33030.443363\nLinear Regression        0.561190  46244.280292",
      "text/html": "<div>\n<style scoped>\n    .dataframe tbody tr th:only-of-type {\n        vertical-align: middle;\n    }\n\n    .dataframe tbody tr th {\n        vertical-align: top;\n    }\n\n    .dataframe thead th {\n        text-align: right;\n    }\n</style>\n<table border=\"1\" class=\"dataframe\">\n  <thead>\n    <tr style=\"text-align: right;\">\n      <th></th>\n      <th>Mean_R2</th>\n      <th>Mean_RMSE</th>\n    </tr>\n  </thead>\n  <tbody>\n    <tr>\n      <th>XGB Reg Model</th>\n      <td>0.905292</td>\n      <td>21418.980162</td>\n    </tr>\n    <tr>\n      <th>Gradient Boosting Model</th>\n      <td>0.905239</td>\n      <td>21428.619049</td>\n    </tr>\n    <tr>\n      <th>Random Forest</th>\n      <td>0.875907</td>\n      <td>24489.558743</td>\n    </tr>\n    <tr>\n      <th>Decision Tree</th>\n      <td>0.773922</td>\n      <td>33030.443363</td>\n    </tr>\n    <tr>\n      <th>Linear Regression</th>\n      <td>0.561190</td>\n      <td>46244.280292</td>\n    </tr>\n  </tbody>\n</table>\n</div>"
     },
     "execution_count": 62,
     "metadata": {},
     "output_type": "execute_result"
    }
   ],
   "source": [
    "index = ['Linear Regression','Gradient Boosting Model','Decision Tree','Random Forest','XGB Reg Model']\n",
    "\n",
    "val = [lin_scores['test_r2'].mean(),\n",
    "       gbrm_scores['test_r2'].mean(),\n",
    "       dtree_scores['test_r2'].mean(),\n",
    "       rf_scores['test_r2'].mean(),\n",
    "       xgb_scores['test_r2'].mean()]\n",
    "\n",
    "RMSE = [lin_scores['test_neg_root_mean_squared_error'].mean() * -1,\n",
    "        gbrm_scores['test_neg_root_mean_squared_error'].mean() * -1,\n",
    "        dtree_scores['test_neg_root_mean_squared_error'].mean() * -1,\n",
    "        rf_scores['test_neg_root_mean_squared_error'].mean() * -1,\n",
    "        xgb_scores['test_neg_root_mean_squared_error'].mean() * -1]\n",
    "\n",
    "summary = pd.DataFrame({'Mean_R2':val,'Mean_RMSE':RMSE},index=index).sort_values('Mean_R2',ascending=False)\n",
    "summary"
   ]
  }
 ],
 "metadata": {
  "deepnote": {},
  "deepnote_execution_queue": [],
  "deepnote_notebook_id": "cbe61891-7159-4f0f-a155-a02d9eb1bf22",
  "kernelspec": {
   "display_name": "Python 3 (ipykernel)",
   "language": "python",
   "name": "python3"
  },
  "language_info": {
   "codemirror_mode": {
    "name": "ipython",
    "version": 3
   },
   "file_extension": ".py",
   "mimetype": "text/x-python",
   "name": "python",
   "nbconvert_exporter": "python",
   "pygments_lexer": "ipython3",
   "version": "3.9.12"
  }
 },
 "nbformat": 4,
 "nbformat_minor": 5
}